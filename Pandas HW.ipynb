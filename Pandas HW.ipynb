{
 "cells": [
  {
   "cell_type": "code",
   "execution_count": 1,
   "id": "b0e413dd",
   "metadata": {},
   "outputs": [],
   "source": [
    "import pandas as pd"
   ]
  },
  {
   "cell_type": "markdown",
   "id": "a79f2165",
   "metadata": {},
   "source": [
    "### 0. Загружаем данные, оптимизируем типы данных для уменьшения объема используемой памяти, проверяем, что все корректно:"
   ]
  },
  {
   "cell_type": "code",
   "execution_count": 2,
   "id": "ac449529",
   "metadata": {},
   "outputs": [],
   "source": [
    "train = pd.read_csv('train.csv', sep=',', index_col=0,\n",
    "                       dtype = {'row_id': 'int64', 'timestamp': 'int64', 'user_id': 'int32', 'content_id': 'int16', \n",
    "                                'content_type_id': 'int8', 'task_container_id': 'int16', 'user_answer': 'int8', \n",
    "                                'answered_correctly': 'int8', 'prior_question_elapsed_time': 'float32', \n",
    "                                'prior_question_had_explanation': 'boolean'\n",
    "                               }\n",
    "                      )"
   ]
  },
  {
   "cell_type": "code",
   "execution_count": 3,
   "id": "0e59a2c0",
   "metadata": {},
   "outputs": [
    {
     "data": {
      "text/html": [
       "<div>\n",
       "<style scoped>\n",
       "    .dataframe tbody tr th:only-of-type {\n",
       "        vertical-align: middle;\n",
       "    }\n",
       "\n",
       "    .dataframe tbody tr th {\n",
       "        vertical-align: top;\n",
       "    }\n",
       "\n",
       "    .dataframe thead th {\n",
       "        text-align: right;\n",
       "    }\n",
       "</style>\n",
       "<table border=\"1\" class=\"dataframe\">\n",
       "  <thead>\n",
       "    <tr style=\"text-align: right;\">\n",
       "      <th></th>\n",
       "      <th>timestamp</th>\n",
       "      <th>user_id</th>\n",
       "      <th>content_id</th>\n",
       "      <th>content_type_id</th>\n",
       "      <th>task_container_id</th>\n",
       "      <th>user_answer</th>\n",
       "      <th>answered_correctly</th>\n",
       "      <th>prior_question_elapsed_time</th>\n",
       "      <th>prior_question_had_explanation</th>\n",
       "    </tr>\n",
       "    <tr>\n",
       "      <th>row_id</th>\n",
       "      <th></th>\n",
       "      <th></th>\n",
       "      <th></th>\n",
       "      <th></th>\n",
       "      <th></th>\n",
       "      <th></th>\n",
       "      <th></th>\n",
       "      <th></th>\n",
       "      <th></th>\n",
       "    </tr>\n",
       "  </thead>\n",
       "  <tbody>\n",
       "    <tr>\n",
       "      <th>0</th>\n",
       "      <td>0</td>\n",
       "      <td>115</td>\n",
       "      <td>5692</td>\n",
       "      <td>0</td>\n",
       "      <td>1</td>\n",
       "      <td>3</td>\n",
       "      <td>1</td>\n",
       "      <td>NaN</td>\n",
       "      <td>&lt;NA&gt;</td>\n",
       "    </tr>\n",
       "    <tr>\n",
       "      <th>1</th>\n",
       "      <td>56943</td>\n",
       "      <td>115</td>\n",
       "      <td>5716</td>\n",
       "      <td>0</td>\n",
       "      <td>2</td>\n",
       "      <td>2</td>\n",
       "      <td>1</td>\n",
       "      <td>37000.0</td>\n",
       "      <td>False</td>\n",
       "    </tr>\n",
       "    <tr>\n",
       "      <th>2</th>\n",
       "      <td>118363</td>\n",
       "      <td>115</td>\n",
       "      <td>128</td>\n",
       "      <td>0</td>\n",
       "      <td>0</td>\n",
       "      <td>0</td>\n",
       "      <td>1</td>\n",
       "      <td>55000.0</td>\n",
       "      <td>False</td>\n",
       "    </tr>\n",
       "    <tr>\n",
       "      <th>3</th>\n",
       "      <td>131167</td>\n",
       "      <td>115</td>\n",
       "      <td>7860</td>\n",
       "      <td>0</td>\n",
       "      <td>3</td>\n",
       "      <td>0</td>\n",
       "      <td>1</td>\n",
       "      <td>19000.0</td>\n",
       "      <td>False</td>\n",
       "    </tr>\n",
       "    <tr>\n",
       "      <th>4</th>\n",
       "      <td>137965</td>\n",
       "      <td>115</td>\n",
       "      <td>7922</td>\n",
       "      <td>0</td>\n",
       "      <td>4</td>\n",
       "      <td>1</td>\n",
       "      <td>1</td>\n",
       "      <td>11000.0</td>\n",
       "      <td>False</td>\n",
       "    </tr>\n",
       "  </tbody>\n",
       "</table>\n",
       "</div>"
      ],
      "text/plain": [
       "        timestamp  user_id  content_id  content_type_id  task_container_id  \\\n",
       "row_id                                                                       \n",
       "0               0      115        5692                0                  1   \n",
       "1           56943      115        5716                0                  2   \n",
       "2          118363      115         128                0                  0   \n",
       "3          131167      115        7860                0                  3   \n",
       "4          137965      115        7922                0                  4   \n",
       "\n",
       "        user_answer  answered_correctly  prior_question_elapsed_time  \\\n",
       "row_id                                                                 \n",
       "0                 3                   1                          NaN   \n",
       "1                 2                   1                      37000.0   \n",
       "2                 0                   1                      55000.0   \n",
       "3                 0                   1                      19000.0   \n",
       "4                 1                   1                      11000.0   \n",
       "\n",
       "        prior_question_had_explanation  \n",
       "row_id                                  \n",
       "0                                 <NA>  \n",
       "1                                False  \n",
       "2                                False  \n",
       "3                                False  \n",
       "4                                False  "
      ]
     },
     "execution_count": 3,
     "metadata": {},
     "output_type": "execute_result"
    }
   ],
   "source": [
    "train.head()"
   ]
  },
  {
   "cell_type": "code",
   "execution_count": 5,
   "id": "6eac65b0",
   "metadata": {},
   "outputs": [
    {
     "name": "stdout",
     "output_type": "stream",
     "text": [
      "<class 'pandas.core.frame.DataFrame'>\n",
      "Int64Index: 101230332 entries, 0 to 101230331\n",
      "Data columns (total 9 columns):\n",
      " #   Column                          Dtype  \n",
      "---  ------                          -----  \n",
      " 0   timestamp                       int64  \n",
      " 1   user_id                         int32  \n",
      " 2   content_id                      int16  \n",
      " 3   content_type_id                 int8   \n",
      " 4   task_container_id               int16  \n",
      " 5   user_answer                     int8   \n",
      " 6   answered_correctly              int8   \n",
      " 7   prior_question_elapsed_time     float32\n",
      " 8   prior_question_had_explanation  boolean\n",
      "dtypes: boolean(1), float32(1), int16(2), int32(1), int64(1), int8(3)\n",
      "memory usage: 3.1 GB\n"
     ]
    }
   ],
   "source": [
    "train.info()"
   ]
  },
  {
   "cell_type": "code",
   "execution_count": 6,
   "id": "67e76e6c",
   "metadata": {},
   "outputs": [],
   "source": [
    "\"\"\"\n",
    "Для удобства анализа приведем последний столбец к числовому типу\n",
    "Сначала переведем пустые значения в False (в целях анализа эти значения равнозначны)\n",
    "Затем конвертируем в числовой формат\n",
    "\"\"\"\n",
    "for i in range(train.shape[0]):\n",
    "    if pd.isna(train['prior_question_had_explanation'][i]) == True:\n",
    "        train['prior_question_had_explanation'][i] = False\n",
    "train['prior_question_had_explanation'] = train['prior_question_had_explanation'].astype('int8')"
   ]
  },
  {
   "cell_type": "code",
   "execution_count": 8,
   "id": "1a84f3a1",
   "metadata": {},
   "outputs": [
    {
     "name": "stdout",
     "output_type": "stream",
     "text": [
      "<class 'pandas.core.frame.DataFrame'>\n",
      "Int64Index: 101230332 entries, 0 to 101230331\n",
      "Data columns (total 9 columns):\n",
      " #   Column                          Dtype  \n",
      "---  ------                          -----  \n",
      " 0   timestamp                       int64  \n",
      " 1   user_id                         int32  \n",
      " 2   content_id                      int16  \n",
      " 3   content_type_id                 int8   \n",
      " 4   task_container_id               int16  \n",
      " 5   user_answer                     int8   \n",
      " 6   answered_correctly              int8   \n",
      " 7   prior_question_elapsed_time     float32\n",
      " 8   prior_question_had_explanation  int8   \n",
      "dtypes: float32(1), int16(2), int32(1), int64(1), int8(4)\n",
      "memory usage: 3.0 GB\n"
     ]
    }
   ],
   "source": [
    "train.info()"
   ]
  },
  {
   "cell_type": "markdown",
   "id": "3171ce12",
   "metadata": {},
   "source": [
    "## 1. Исследуем данные Train\n",
    "Перевод имен колонок (для удобства):\n",
    "- **row_id: (int64)** ID строки\n",
    "- **timestamp: (int64)** время в милисекундах между началом сессии и завершением задания юзером\n",
    "- **user_id: (int32)** ID юзера\n",
    "- **content_id: (int16)** ID вопроса/лекции\n",
    "- **content_type_id: (int8)** 0 - вопрос(ы), 1 - лекция\n",
    "- **task_container_id: (int16)** ID блока вопросов или лекции (может включать в себя несколько content_id)\n",
    "- **user_answer: (int8)** ответ юзера на вопрос. -1 - пустое значение для лекций\n",
    "- **answered_correctly: (int8)** 1 -ответил верно, 0 -неверно, -1 -пустое значение для лекций\n",
    "- **prior_question_elapsed_time: (float32)** среднее время в милисекундах, затраченное юзером на ответы на предыдущий блок вопросов (лекции в промежутке игнорируются). Для первого - значение 0.\n",
    "- **prior_question_had_explanation: (bool)** видел ли юзер правильный ответ и объяснение на предыдущий блок вопросов (лекции в промежутке игнорируются). Для первого - значение 0. Обычно первые вопросы, которые видит юзер - вступительный тест, на который нет фидбека.\n"
   ]
  },
  {
   "cell_type": "code",
   "execution_count": 9,
   "id": "399e9eb7",
   "metadata": {},
   "outputs": [
    {
     "data": {
      "text/html": [
       "<div>\n",
       "<style scoped>\n",
       "    .dataframe tbody tr th:only-of-type {\n",
       "        vertical-align: middle;\n",
       "    }\n",
       "\n",
       "    .dataframe tbody tr th {\n",
       "        vertical-align: top;\n",
       "    }\n",
       "\n",
       "    .dataframe thead th {\n",
       "        text-align: right;\n",
       "    }\n",
       "</style>\n",
       "<table border=\"1\" class=\"dataframe\">\n",
       "  <thead>\n",
       "    <tr style=\"text-align: right;\">\n",
       "      <th></th>\n",
       "      <th>Column_Name</th>\n",
       "      <th>Num_Unique</th>\n",
       "      <th>Type</th>\n",
       "    </tr>\n",
       "  </thead>\n",
       "  <tbody>\n",
       "    <tr>\n",
       "      <th>0</th>\n",
       "      <td>content_type_id</td>\n",
       "      <td>2</td>\n",
       "      <td>int8</td>\n",
       "    </tr>\n",
       "    <tr>\n",
       "      <th>1</th>\n",
       "      <td>prior_question_had_explanation</td>\n",
       "      <td>2</td>\n",
       "      <td>int8</td>\n",
       "    </tr>\n",
       "    <tr>\n",
       "      <th>2</th>\n",
       "      <td>answered_correctly</td>\n",
       "      <td>3</td>\n",
       "      <td>int8</td>\n",
       "    </tr>\n",
       "    <tr>\n",
       "      <th>3</th>\n",
       "      <td>user_answer</td>\n",
       "      <td>5</td>\n",
       "      <td>int8</td>\n",
       "    </tr>\n",
       "    <tr>\n",
       "      <th>4</th>\n",
       "      <td>prior_question_elapsed_time</td>\n",
       "      <td>3258</td>\n",
       "      <td>float32</td>\n",
       "    </tr>\n",
       "    <tr>\n",
       "      <th>5</th>\n",
       "      <td>task_container_id</td>\n",
       "      <td>10000</td>\n",
       "      <td>int16</td>\n",
       "    </tr>\n",
       "    <tr>\n",
       "      <th>6</th>\n",
       "      <td>content_id</td>\n",
       "      <td>13782</td>\n",
       "      <td>int16</td>\n",
       "    </tr>\n",
       "    <tr>\n",
       "      <th>7</th>\n",
       "      <td>user_id</td>\n",
       "      <td>393656</td>\n",
       "      <td>int32</td>\n",
       "    </tr>\n",
       "    <tr>\n",
       "      <th>8</th>\n",
       "      <td>timestamp</td>\n",
       "      <td>72821015</td>\n",
       "      <td>int64</td>\n",
       "    </tr>\n",
       "  </tbody>\n",
       "</table>\n",
       "</div>"
      ],
      "text/plain": [
       "                      Column_Name  Num_Unique     Type\n",
       "0                 content_type_id           2     int8\n",
       "1  prior_question_had_explanation           2     int8\n",
       "2              answered_correctly           3     int8\n",
       "3                     user_answer           5     int8\n",
       "4     prior_question_elapsed_time        3258  float32\n",
       "5               task_container_id       10000    int16\n",
       "6                      content_id       13782    int16\n",
       "7                         user_id      393656    int32\n",
       "8                       timestamp    72821015    int64"
      ]
     },
     "metadata": {},
     "output_type": "display_data"
    }
   ],
   "source": [
    "\"\"\"\n",
    "Исследуем кол-во уникальных значений для разных колонок\n",
    "\"\"\"\n",
    "unique_list = []\n",
    "for col in train.columns:\n",
    "    item = (col, train[col].nunique(), train[col].dtype)\n",
    "    unique_list.append(item)\n",
    "unique_counts = pd.DataFrame(unique_list,\n",
    "                             columns=['Column_Name', 'Num_Unique', 'Type']\n",
    "                            ).sort_values(by='Num_Unique',  ignore_index=True)\n",
    "display(unique_counts)"
   ]
  },
  {
   "cell_type": "code",
   "execution_count": 79,
   "id": "4ef163b0",
   "metadata": {},
   "outputs": [
    {
     "data": {
      "text/plain": [
       "1.0106370331624595"
      ]
     },
     "execution_count": 79,
     "metadata": {},
     "output_type": "execute_result"
    }
   ],
   "source": [
    "\"\"\"\n",
    "Данные с небольшим кол-вом уникальных значений можно исследовать дополнительно для корректной категоризации\n",
    "Начнем с типов активности: 0 - вопрос(ы), 1 - лекция\n",
    "\"\"\"\n",
    "train['content_type_id'].value_counts(normalize=True) \n",
    "train['content_type_id'].value_counts()[0] \n",
    "train['content_type_id'].value_counts()[1] \n",
    "\n",
    "# 98% активновти студентов приходится на ответы на вопросы:\n",
    "# общее кол-во ответов на вопросы - 99271300\n",
    "# общее кол-во просмотров лекций - 1959032"
   ]
  },
  {
   "cell_type": "code",
   "execution_count": 10,
   "id": "5aa2b27a",
   "metadata": {},
   "outputs": [],
   "source": [
    "\"\"\"\n",
    "Исследуем соотношение правильных и неправильных ответов (исключаем из рассмотрения лекции)\n",
    "\"\"\"\n",
    "train[train['answered_correctly'] != -1]['answered_correctly'].value_counts(normalize=True) \n",
    "train[train['answered_correctly'] != -1]['answered_correctly'].value_counts()[1] \n",
    "train[train['answered_correctly'] != -1]['answered_correctly'].value_counts()[0]\n",
    "train[train['answered_correctly'] != -1]['answered_correctly'].mean()\n",
    "\n",
    "# 66% составляют правильные ответы, 34% - неправильные\n",
    "# всего 65244627 правильных ответов и 34026673 неправильных ответов\n",
    "# 0.657 - средний балл студента"
   ]
  },
  {
   "cell_type": "code",
   "execution_count": 536,
   "id": "8db3128b",
   "metadata": {},
   "outputs": [
    {
     "data": {
      "text/plain": [
       "13005.0810546875"
      ]
     },
     "execution_count": 536,
     "metadata": {},
     "output_type": "execute_result"
    }
   ],
   "source": [
    "\"\"\"\n",
    "Посчитаем среднее время на решение вопроса\n",
    "\"\"\"\n",
    "train['prior_question_elapsed_time'].mean()"
   ]
  },
  {
   "cell_type": "code",
   "execution_count": 541,
   "id": "c8180d30",
   "metadata": {},
   "outputs": [],
   "source": [
    "\"\"\"\n",
    "Приведем средние данные по общей базе данных:\n",
    "\"\"\"\n",
    "train[train['content_type_id'] == 0].shape[0] / train['user_id'].nunique()\n",
    "train[train['answered_correctly'] != -1]['answered_correctly'].sum() / train['user_id'].nunique()\n",
    "train[train['content_type_id'] == 1].shape[0] / train['user_id'].nunique()\n",
    "train['prior_question_had_explanation'].sum() / train['user_id'].nunique()\n",
    "train['prior_question_elapsed_time'].mean()\n",
    "\n",
    "# Cреднее число отвеченных вопросов: 252.17\n",
    "# Среднее кол-во правильных ответов: 165.74\n",
    "# Среднее число просмотренных лекций: 4.97\n",
    "# Среднее число виденных объяснений: 227.82\n",
    "# Среднее время, затрачиваемое на вопрос: 13005"
   ]
  },
  {
   "cell_type": "code",
   "execution_count": 12,
   "id": "188a5183",
   "metadata": {},
   "outputs": [
    {
     "data": {
      "text/html": [
       "<div>\n",
       "<style scoped>\n",
       "    .dataframe tbody tr th:only-of-type {\n",
       "        vertical-align: middle;\n",
       "    }\n",
       "\n",
       "    .dataframe tbody tr th {\n",
       "        vertical-align: top;\n",
       "    }\n",
       "\n",
       "    .dataframe thead th {\n",
       "        text-align: right;\n",
       "    }\n",
       "</style>\n",
       "<table border=\"1\" class=\"dataframe\">\n",
       "  <thead>\n",
       "    <tr style=\"text-align: right;\">\n",
       "      <th></th>\n",
       "      <th>timestamp</th>\n",
       "      <th>prior_questions_time</th>\n",
       "      <th>had_explanation</th>\n",
       "    </tr>\n",
       "    <tr>\n",
       "      <th>answered_correctly</th>\n",
       "      <th></th>\n",
       "      <th></th>\n",
       "      <th></th>\n",
       "    </tr>\n",
       "  </thead>\n",
       "  <tbody>\n",
       "    <tr>\n",
       "      <th>0</th>\n",
       "      <td>7.235711e+09</td>\n",
       "      <td>25641.992188</td>\n",
       "      <td>29310272.0</td>\n",
       "    </tr>\n",
       "    <tr>\n",
       "      <th>1</th>\n",
       "      <td>7.945270e+09</td>\n",
       "      <td>25309.976562</td>\n",
       "      <td>60375288.0</td>\n",
       "    </tr>\n",
       "  </tbody>\n",
       "</table>\n",
       "</div>"
      ],
      "text/plain": [
       "                       timestamp  prior_questions_time  had_explanation\n",
       "answered_correctly                                                     \n",
       "0                   7.235711e+09          25641.992188       29310272.0\n",
       "1                   7.945270e+09          25309.976562       60375288.0"
      ]
     },
     "execution_count": 12,
     "metadata": {},
     "output_type": "execute_result"
    }
   ],
   "source": [
    "\"\"\"\n",
    "Посмотрим, есть ли разница в % правильных ответов в зависиомсти от:\n",
    "- времени с начала сессии\n",
    "- среднего времеми ответа студента на вопросы\n",
    "- видел ли студент правильный ответ на предыдущее задание\n",
    "\"\"\"\n",
    "pd.DataFrame({'timestamp': train[train['answered_correctly'] != -1]['timestamp'].groupby(train['answered_correctly']).mean(),\n",
    "              'prior_questions_time': train[train['answered_correctly'] != -1]['prior_question_elapsed_time'].groupby(train['answered_correctly']).mean(),\n",
    "              'had_explanation': train[train['answered_correctly'] != -1]['prior_question_had_explanation'].groupby(train['answered_correctly']).sum()\n",
    "             }\n",
    "            )\n",
    "\n",
    "# Можно сделать следующие выводы:\n",
    "# - чем ближе к началу сессии вопрос, тем менее успешно его проходят студенты \n",
    "# (т.е. успешность коррелирует со временем, проведенным на платформе)\n",
    "# - студенты, тратящие меньше времени на решение, чаще отвечают правильно\n",
    "# - если студент видел объяснение предыдущий задачи, вероятность правильного ответа удваивается"
   ]
  },
  {
   "cell_type": "markdown",
   "id": "39cc4e50",
   "metadata": {},
   "source": [
    "### Основные выводы по разделу 1:\n",
    "\n",
    "- Всего в данных присутствует информация об активности 393656 студентов.\n",
    "- На платформе 13523 вопросов (объединенных в 10000 блоков) и 418 лекций по 7 темам.\n",
    "- В среднем на ответ на вопрос у студентов уходит \n",
    "- 98% активновти студентов приходится на ответы на вопросы, только 2% татится на просмотр лекций.\n",
    "- 66% составляют правильные ответы, 34% - неправильные.\n",
    "- 0.657 - средний балл студента\n",
    "- Cреднее число отвеченных вопросов: 252.17\n",
    "- Среднее кол-во правильных ответов: 165.74\n",
    "- Среднее число просмотренных лекций: 4.97\n",
    "- Среднее число виденных объяснений: 227.82\n",
    "- Среднее время, затрачиваемое на вопрос: 13005\n",
    "- Cреднее время на решение вопроса 13005 милисекунд (= 13 секунд)\n",
    "- Чем ближе к началу сессии вопрос, тем менее успешно его проходят студенты (т.е. успешность коррелирует со временем, проведенным на платформе)\n",
    "- Студенты в среднем тратят меньше времени на правильный ответ, чем на неправильный (возможно, меньше сомневаются)\n",
    "- Если студент видел объяснение предыдущий задачи, он в 2 раза чаще отвечает правильно, чем неправильно"
   ]
  },
  {
   "cell_type": "markdown",
   "id": "272ee664",
   "metadata": {},
   "source": [
    "---"
   ]
  },
  {
   "cell_type": "markdown",
   "id": "d1f967fb",
   "metadata": {},
   "source": [
    "## 2. Для дальнейшего анализа создадим новый DataFrame с данными, агрегированными по студентам\n",
    "students\n",
    "\n",
    "Добавим данные:\n",
    "- **user_id**: ID студента\n",
    "- **time**: время, проведенное на платформе\n",
    "- **ques_quant**: количество отвеченных вопросов\n",
    "- **av_grade**: средний балл студента\n",
    "- **lec_watched**: кол-во просмотренных лекций\n",
    "- **expl_watched**: кол-во виденных объяснений на предыдущие вопросы"
   ]
  },
  {
   "cell_type": "code",
   "execution_count": 478,
   "id": "d6b6a387",
   "metadata": {},
   "outputs": [],
   "source": [
    "\"\"\"\n",
    "Cоставим новый дф по уникальным id студентов\n",
    "Cначала сформируем необходимые списки для df\n",
    "\"\"\"\n",
    "sudents_list = list(train['user_id'].unique())\n",
    "users_q = len(sudents_list)\n",
    "\n",
    "# Всего 393656 уникальных студентов"
   ]
  },
  {
   "cell_type": "code",
   "execution_count": null,
   "id": "df0fde4c",
   "metadata": {},
   "outputs": [],
   "source": [
    "\"\"\"\n",
    "Поскольку число уникальных студентов слишком велико для быстрой обработки, \n",
    "возьмем из нее 500 уникальных и проанализируем их активность.\n",
    "\"\"\"\n",
    "sudents_list = sudents_list[:500]"
   ]
  },
  {
   "cell_type": "code",
   "execution_count": 479,
   "id": "754244a2",
   "metadata": {},
   "outputs": [],
   "source": [
    "\"\"\"\n",
    "Посчитаем время на платформе для каждого студента\n",
    "\"\"\"\n",
    "time = []\n",
    "for student in sudents_list:\n",
    "    t = train[train['user_id'] == student]['timestamp'].max()\n",
    "    time.append(t)"
   ]
  },
  {
   "cell_type": "code",
   "execution_count": 480,
   "id": "97f3d460",
   "metadata": {},
   "outputs": [],
   "source": [
    "\"\"\"\n",
    "Количество отвеченных вопросов\n",
    "\"\"\"\n",
    "ques_quant = []\n",
    "for student in sudents_list:\n",
    "    q = train[(train['user_id'] == student) & (train['content_type_id'] == 0)]['content_type_id'].count()\n",
    "    ques_quant.append(q)"
   ]
  },
  {
   "cell_type": "code",
   "execution_count": 481,
   "id": "392e03e0",
   "metadata": {},
   "outputs": [],
   "source": [
    "\"\"\"\n",
    "Cредний балл студента\n",
    "\"\"\"\n",
    "av_grade = []\n",
    "for student in sudents_list:\n",
    "    g = train[(train['user_id'] == student) & (train['answered_correctly'] != -1)]['answered_correctly'].mean()\n",
    "    av_grade.append(g)"
   ]
  },
  {
   "cell_type": "code",
   "execution_count": 482,
   "id": "80f0c888",
   "metadata": {},
   "outputs": [],
   "source": [
    "\"\"\"\n",
    "Кол-во просмотренных лекций\n",
    "\"\"\"\n",
    "lec_watched = []\n",
    "for student in sudents_list:\n",
    "    l = train[train['user_id'] == student]['content_type_id'].sum()\n",
    "    lec_watched.append(l)"
   ]
  },
  {
   "cell_type": "code",
   "execution_count": 483,
   "id": "74b80737",
   "metadata": {},
   "outputs": [],
   "source": [
    "\"\"\"\n",
    "Кол-во виденных объяснений на предыдущие вопросы\n",
    "\"\"\"\n",
    "expl_watched = []\n",
    "for student in sudents_list:\n",
    "    e = train[train['user_id'] == student]['prior_question_had_explanation'].sum()\n",
    "    expl_watched.append(e)"
   ]
  },
  {
   "cell_type": "code",
   "execution_count": 535,
   "id": "44d85a6b",
   "metadata": {},
   "outputs": [],
   "source": [
    "\"\"\"\n",
    "Время, в среднем потраченное студентом на каждый вопрос\n",
    "\"\"\"\n",
    "ques_time = []\n",
    "for student in sudents_list:\n",
    "    qt = train[(train['user_id'] == student)]['prior_question_elapsed_time'].mean()\n",
    "    ques_time.append(qt)"
   ]
  },
  {
   "cell_type": "code",
   "execution_count": 545,
   "id": "114cfaa8",
   "metadata": {},
   "outputs": [],
   "source": [
    "\"\"\"\n",
    "Запишем данные по 500 отобранным студентам в единую таблицу\n",
    "\"\"\"\n",
    "students = pd.DataFrame({'user_id': sudents_list,\n",
    "                        'time': time,\n",
    "                        'ques_quant': ques_quant,\n",
    "                        'av_grade': av_grade,\n",
    "                        'lec_watched': lec_watched,\n",
    "                        'expl_watched': expl_watched,\n",
    "                         'ques_time': ques_time\n",
    "                       }\n",
    "                      )\n",
    "students = students.astype({'user_id': 'int32',\n",
    "                            'time': 'int64',\n",
    "                            'ques_quant': 'int16', \n",
    "                            'av_grade': 'float32',\n",
    "                            'lec_watched': 'int16',\n",
    "                            'expl_watched': 'int16',\n",
    "                            'ques_time': 'float32'\n",
    "                           })"
   ]
  },
  {
   "cell_type": "code",
   "execution_count": 546,
   "id": "563deeeb",
   "metadata": {},
   "outputs": [
    {
     "data": {
      "text/html": [
       "<div>\n",
       "<style scoped>\n",
       "    .dataframe tbody tr th:only-of-type {\n",
       "        vertical-align: middle;\n",
       "    }\n",
       "\n",
       "    .dataframe tbody tr th {\n",
       "        vertical-align: top;\n",
       "    }\n",
       "\n",
       "    .dataframe thead th {\n",
       "        text-align: right;\n",
       "    }\n",
       "</style>\n",
       "<table border=\"1\" class=\"dataframe\">\n",
       "  <thead>\n",
       "    <tr style=\"text-align: right;\">\n",
       "      <th></th>\n",
       "      <th>user_id</th>\n",
       "      <th>time</th>\n",
       "      <th>ques_quant</th>\n",
       "      <th>av_grade</th>\n",
       "      <th>lec_watched</th>\n",
       "      <th>expl_watched</th>\n",
       "      <th>ques_time</th>\n",
       "    </tr>\n",
       "  </thead>\n",
       "  <tbody>\n",
       "    <tr>\n",
       "      <th>0</th>\n",
       "      <td>115</td>\n",
       "      <td>668090043</td>\n",
       "      <td>46</td>\n",
       "      <td>0.695652</td>\n",
       "      <td>0</td>\n",
       "      <td>6</td>\n",
       "      <td>19933.310547</td>\n",
       "    </tr>\n",
       "    <tr>\n",
       "      <th>1</th>\n",
       "      <td>124</td>\n",
       "      <td>571323</td>\n",
       "      <td>30</td>\n",
       "      <td>0.233333</td>\n",
       "      <td>0</td>\n",
       "      <td>0</td>\n",
       "      <td>18793.000000</td>\n",
       "    </tr>\n",
       "    <tr>\n",
       "      <th>2</th>\n",
       "      <td>2746</td>\n",
       "      <td>835457</td>\n",
       "      <td>19</td>\n",
       "      <td>0.578947</td>\n",
       "      <td>1</td>\n",
       "      <td>11</td>\n",
       "      <td>18055.554688</td>\n",
       "    </tr>\n",
       "    <tr>\n",
       "      <th>3</th>\n",
       "      <td>5382</td>\n",
       "      <td>2101551456</td>\n",
       "      <td>125</td>\n",
       "      <td>0.672000</td>\n",
       "      <td>3</td>\n",
       "      <td>113</td>\n",
       "      <td>36048.386719</td>\n",
       "    </tr>\n",
       "    <tr>\n",
       "      <th>4</th>\n",
       "      <td>8623</td>\n",
       "      <td>862338736</td>\n",
       "      <td>109</td>\n",
       "      <td>0.642202</td>\n",
       "      <td>3</td>\n",
       "      <td>96</td>\n",
       "      <td>26107.408203</td>\n",
       "    </tr>\n",
       "  </tbody>\n",
       "</table>\n",
       "</div>"
      ],
      "text/plain": [
       "   user_id        time  ques_quant  av_grade  lec_watched  expl_watched  \\\n",
       "0      115   668090043          46  0.695652            0             6   \n",
       "1      124      571323          30  0.233333            0             0   \n",
       "2     2746      835457          19  0.578947            1            11   \n",
       "3     5382  2101551456         125  0.672000            3           113   \n",
       "4     8623   862338736         109  0.642202            3            96   \n",
       "\n",
       "      ques_time  \n",
       "0  19933.310547  \n",
       "1  18793.000000  \n",
       "2  18055.554688  \n",
       "3  36048.386719  \n",
       "4  26107.408203  "
      ]
     },
     "execution_count": 546,
     "metadata": {},
     "output_type": "execute_result"
    }
   ],
   "source": [
    "students.head()"
   ]
  },
  {
   "cell_type": "code",
   "execution_count": 547,
   "id": "0a58ae69",
   "metadata": {},
   "outputs": [
    {
     "data": {
      "text/html": [
       "<div>\n",
       "<style scoped>\n",
       "    .dataframe tbody tr th:only-of-type {\n",
       "        vertical-align: middle;\n",
       "    }\n",
       "\n",
       "    .dataframe tbody tr th {\n",
       "        vertical-align: top;\n",
       "    }\n",
       "\n",
       "    .dataframe thead th {\n",
       "        text-align: right;\n",
       "    }\n",
       "</style>\n",
       "<table border=\"1\" class=\"dataframe\">\n",
       "  <thead>\n",
       "    <tr style=\"text-align: right;\">\n",
       "      <th></th>\n",
       "      <th>user_id</th>\n",
       "      <th>time</th>\n",
       "      <th>ques_quant</th>\n",
       "      <th>av_grade</th>\n",
       "      <th>lec_watched</th>\n",
       "      <th>expl_watched</th>\n",
       "      <th>ques_time</th>\n",
       "    </tr>\n",
       "  </thead>\n",
       "  <tbody>\n",
       "    <tr>\n",
       "      <th>count</th>\n",
       "      <td>5.000000e+02</td>\n",
       "      <td>5.000000e+02</td>\n",
       "      <td>500.000000</td>\n",
       "      <td>500.000000</td>\n",
       "      <td>500.000000</td>\n",
       "      <td>500.000000</td>\n",
       "      <td>499.000000</td>\n",
       "    </tr>\n",
       "    <tr>\n",
       "      <th>mean</th>\n",
       "      <td>1.468722e+06</td>\n",
       "      <td>5.361427e+09</td>\n",
       "      <td>276.574000</td>\n",
       "      <td>0.554668</td>\n",
       "      <td>5.240000</td>\n",
       "      <td>253.600000</td>\n",
       "      <td>23859.998047</td>\n",
       "    </tr>\n",
       "    <tr>\n",
       "      <th>std</th>\n",
       "      <td>8.476328e+05</td>\n",
       "      <td>1.025473e+10</td>\n",
       "      <td>757.372753</td>\n",
       "      <td>0.165881</td>\n",
       "      <td>17.461851</td>\n",
       "      <td>751.298414</td>\n",
       "      <td>7225.852539</td>\n",
       "    </tr>\n",
       "    <tr>\n",
       "      <th>min</th>\n",
       "      <td>1.150000e+02</td>\n",
       "      <td>0.000000e+00</td>\n",
       "      <td>1.000000</td>\n",
       "      <td>0.000000</td>\n",
       "      <td>0.000000</td>\n",
       "      <td>0.000000</td>\n",
       "      <td>1344.862061</td>\n",
       "    </tr>\n",
       "    <tr>\n",
       "      <th>25%</th>\n",
       "      <td>7.444190e+05</td>\n",
       "      <td>1.395153e+06</td>\n",
       "      <td>30.000000</td>\n",
       "      <td>0.441731</td>\n",
       "      <td>0.000000</td>\n",
       "      <td>9.000000</td>\n",
       "      <td>19370.302734</td>\n",
       "    </tr>\n",
       "    <tr>\n",
       "      <th>50%</th>\n",
       "      <td>1.514318e+06</td>\n",
       "      <td>4.714174e+08</td>\n",
       "      <td>45.000000</td>\n",
       "      <td>0.580850</td>\n",
       "      <td>0.000000</td>\n",
       "      <td>22.500000</td>\n",
       "      <td>22924.494141</td>\n",
       "    </tr>\n",
       "    <tr>\n",
       "      <th>75%</th>\n",
       "      <td>2.201334e+06</td>\n",
       "      <td>5.065056e+09</td>\n",
       "      <td>171.750000</td>\n",
       "      <td>0.674960</td>\n",
       "      <td>2.000000</td>\n",
       "      <td>142.000000</td>\n",
       "      <td>26889.037109</td>\n",
       "    </tr>\n",
       "    <tr>\n",
       "      <th>max</th>\n",
       "      <td>2.909984e+06</td>\n",
       "      <td>6.370152e+10</td>\n",
       "      <td>7476.000000</td>\n",
       "      <td>1.000000</td>\n",
       "      <td>181.000000</td>\n",
       "      <td>7465.000000</td>\n",
       "      <td>60351.351562</td>\n",
       "    </tr>\n",
       "  </tbody>\n",
       "</table>\n",
       "</div>"
      ],
      "text/plain": [
       "            user_id          time   ques_quant    av_grade  lec_watched  \\\n",
       "count  5.000000e+02  5.000000e+02   500.000000  500.000000   500.000000   \n",
       "mean   1.468722e+06  5.361427e+09   276.574000    0.554668     5.240000   \n",
       "std    8.476328e+05  1.025473e+10   757.372753    0.165881    17.461851   \n",
       "min    1.150000e+02  0.000000e+00     1.000000    0.000000     0.000000   \n",
       "25%    7.444190e+05  1.395153e+06    30.000000    0.441731     0.000000   \n",
       "50%    1.514318e+06  4.714174e+08    45.000000    0.580850     0.000000   \n",
       "75%    2.201334e+06  5.065056e+09   171.750000    0.674960     2.000000   \n",
       "max    2.909984e+06  6.370152e+10  7476.000000    1.000000   181.000000   \n",
       "\n",
       "       expl_watched     ques_time  \n",
       "count    500.000000    499.000000  \n",
       "mean     253.600000  23859.998047  \n",
       "std      751.298414   7225.852539  \n",
       "min        0.000000   1344.862061  \n",
       "25%        9.000000  19370.302734  \n",
       "50%       22.500000  22924.494141  \n",
       "75%      142.000000  26889.037109  \n",
       "max     7465.000000  60351.351562  "
      ]
     },
     "execution_count": 547,
     "metadata": {},
     "output_type": "execute_result"
    }
   ],
   "source": [
    "\"\"\"\n",
    "Посмотрим, насколько наша выборка похожа на общие данные:\n",
    "\"\"\"\n",
    "students.describe()\n",
    "\n",
    "# Мы видим, что наша выборка средними значениями отличается от общего датасета:\n",
    "# средняя успеваемость у нашей группы ниже, чем у полного набора данных, \n",
    "# при этом среднее число просмотренных лекций и объяснений выше\n",
    "# (за счет относительно небольшого кол-ва очень активно учащихся студентов\n",
    "# это видно из смещения кол-ва отвеченных вопросов, просмотренных лекций и объяснений в верхний квартиль\n",
    "# и высокой дисперсии)\n",
    "# Однако все значения укладываются в среднеквадратическое отклонение, \n",
    "# поэтому можем считать их несущественными для результатов анализа"
   ]
  },
  {
   "cell_type": "code",
   "execution_count": 544,
   "id": "541ca377",
   "metadata": {},
   "outputs": [
    {
     "data": {
      "text/plain": [
       "<AxesSubplot:>"
      ]
     },
     "execution_count": 544,
     "metadata": {},
     "output_type": "execute_result"
    },
    {
     "data": {
      "image/png": "[encoded data removed]",
      "text/plain": [
       "<Figure size 432x288 with 1 Axes>"
      ]
     },
     "metadata": {
      "needs_background": "light"
     },
     "output_type": "display_data"
    }
   ],
   "source": [
    "\"\"\"\n",
    "Гистограма распределения средних оценок среди студентов\n",
    "\"\"\"\n",
    "students['av_grade'].hist(bins=20)"
   ]
  },
  {
   "cell_type": "code",
   "execution_count": 523,
   "id": "8509e795",
   "metadata": {},
   "outputs": [
    {
     "data": {
      "text/plain": [
       "0.5808496475219727"
      ]
     },
     "execution_count": 523,
     "metadata": {},
     "output_type": "execute_result"
    }
   ],
   "source": [
    "students['av_grade'].median()"
   ]
  },
  {
   "cell_type": "markdown",
   "id": "407f3f0a",
   "metadata": {},
   "source": [
    "### Проанализируем зависимость успешности студента от:\n",
    "- индивидуального времени, проведенного на платформе\n",
    "- кол-ва сделанных заданий\n",
    "- кол-ва виденных объяснений\n",
    "- кол-ва времени, затраченного на каждый вопрос\n",
    "- кол-ва просмотренных лекций"
   ]
  },
  {
   "cell_type": "code",
   "execution_count": 506,
   "id": "b362de72",
   "metadata": {},
   "outputs": [
    {
     "data": {
      "text/plain": [
       "<AxesSubplot:xlabel='av_grade', ylabel='time'>"
      ]
     },
     "execution_count": 506,
     "metadata": {},
     "output_type": "execute_result"
    },
    {
     "data": {
      "image/png": "[encoded data removed]",
      "text/plain": [
       "<Figure size 432x288 with 1 Axes>"
      ]
     },
     "metadata": {
      "needs_background": "light"
     },
     "output_type": "display_data"
    }
   ],
   "source": [
    "\"\"\"\n",
    "Построим диаграмму рассеяния, показывающую зависимость правильных ответов от веремени, проведенного на платформе\n",
    "Чтобы убрать выбросы, ограничим время 3000000.\n",
    "\"\"\"\n",
    "students[students['time'] < 3000000].plot.scatter(x='av_grade', y='time')\n",
    "\n",
    "# Из графика неочевидно, что с ростом времени, затраченного на платформе, растет процент правильных ответов у студентов\n",
    "# Можем сделать 2 предположения:\n",
    "# - либо время, проведенное на платформе не имеет значимого влияния на успеваемость\n",
    "# - либо для эффекта нужно затрачивать время сильно больше, чем это делает большинство студентов\n",
    "# (возможно студенты слишком рано бросают занятия)"
   ]
  },
  {
   "cell_type": "code",
   "execution_count": 527,
   "id": "82dcf903",
   "metadata": {},
   "outputs": [
    {
     "data": {
      "text/plain": [
       "array([[<AxesSubplot:title={'center':'time'}>]], dtype=object)"
      ]
     },
     "execution_count": 527,
     "metadata": {},
     "output_type": "execute_result"
    },
    {
     "data": {
      "image/png": "[encoded data removed]",
      "text/plain": [
       "<Figure size 432x288 with 1 Axes>"
      ]
     },
     "metadata": {
      "needs_background": "light"
     },
     "output_type": "display_data"
    }
   ],
   "source": [
    "\"\"\"\n",
    "Посмотрим на гистограмме, в какой момент большинство студентов прекращает занятия\n",
    "\"\"\"\n",
    "students[students['time'] < 3000000].hist(column=['time'])\n",
    "\n",
    "# Мы видим, что после 1000000 милисекунд (=17 минут) 1/5 часть студентов не продолжает обучения, \n",
    "# после 2500000 милисекунд (=42 минуты) учебу бросает уже треть\n",
    "# Получается, то, что мы изначально сочли выбросами - это наша основная рабочая выборка, которую надо исследовать,\n",
    "# чтобы понять влияние факторов на успеваемость. "
   ]
  },
  {
   "cell_type": "code",
   "execution_count": 528,
   "id": "048f9143",
   "metadata": {},
   "outputs": [
    {
     "data": {
      "text/plain": [
       "(161, 8)"
      ]
     },
     "execution_count": 528,
     "metadata": {},
     "output_type": "execute_result"
    }
   ],
   "source": [
    "# строка для проверки данных отсечения\n",
    "students[students['time'] < 2500000].shape"
   ]
  },
  {
   "cell_type": "code",
   "execution_count": 529,
   "id": "830707b6",
   "metadata": {},
   "outputs": [
    {
     "data": {
      "text/plain": [
       "<AxesSubplot:xlabel='av_grade', ylabel='time'>"
      ]
     },
     "execution_count": 529,
     "metadata": {},
     "output_type": "execute_result"
    },
    {
     "data": {
      "image/png": "[encoded data removed]",
      "text/plain": [
       "<Figure size 432x288 with 1 Axes>"
      ]
     },
     "metadata": {
      "needs_background": "light"
     },
     "output_type": "display_data"
    }
   ],
   "source": [
    "\"\"\"\n",
    "Построим диаграмму рассеяния для студентов, не бросивших учебу в течение 1го часа.\n",
    "\"\"\"\n",
    "students[students['time'] > 3000000].plot.scatter(x='av_grade', y='time')\n",
    "\n",
    "# Здесь уже становится видна тенденция роста успеваемости с течением веремени"
   ]
  },
  {
   "cell_type": "code",
   "execution_count": 598,
   "id": "7ca31e74",
   "metadata": {},
   "outputs": [],
   "source": [
    "\"\"\"\n",
    "Для наглядности проведем разбиение студентов по временным группам:\n",
    " - Добавим столбец с временной группировкой\n",
    " - Построим диаграмму размаха\n",
    "\"\"\"\n",
    "\n",
    "def time_convert(e):\n",
    "    if e < students['time'].quantile(0.1): return 0\n",
    "    elif e < students['time'].quantile(0.2): return 1\n",
    "    elif e < students['time'].quantile(0.3): return 2\n",
    "    elif e < students['time'].quantile(0.4): return 3\n",
    "    elif e < students['time'].quantile(0.5): return 4\n",
    "    elif e < students['time'].quantile(0.6): return 5\n",
    "    elif e < students['time'].quantile(0.7): return 6\n",
    "    elif e < students['time'].quantile(0.8): return 7\n",
    "    elif e < students['time'].quantile(0.9): return 8\n",
    "    else: return 9\n",
    "    \n",
    "students['time_group'] = students['time'].apply(time_convert)"
   ]
  },
  {
   "cell_type": "code",
   "execution_count": 599,
   "id": "40652b94",
   "metadata": {},
   "outputs": [
    {
     "data": {
      "text/plain": [
       "<AxesSubplot:title={'center':'av_grade'}, xlabel='[time_group]'>"
      ]
     },
     "execution_count": 599,
     "metadata": {},
     "output_type": "execute_result"
    },
    {
     "data": {
      "image/png": "[encoded data removed]",
      "text/plain": [
       "<Figure size 432x288 with 1 Axes>"
      ]
     },
     "metadata": {
      "needs_background": "light"
     },
     "output_type": "display_data"
    }
   ],
   "source": [
    "students.boxplot(column=['av_grade'], by=['time_group'])\n",
    "\n",
    "# Первый эффект от занятий становится виден, если студент не бросает заниматься\n",
    "# При этом, если студент потратил на занятия не менее 55 часов, его оценка становится устойчиво выше средней\n",
    "# и продолжает расти со временем.\n",
    "# Однако, если курс не пройден за ~ полгода, оценка становится нестабильной\n",
    "# Т.е. стоит не только стимулировать студентов не бросать занятия после первого подхода,\n",
    "# но и закончить курс за первые полгода обучения."
   ]
  },
  {
   "cell_type": "code",
   "execution_count": 615,
   "id": "cb8f19bc",
   "metadata": {},
   "outputs": [
    {
     "data": {
      "text/plain": [
       "118.11600010069442"
      ]
     },
     "execution_count": 615,
     "metadata": {},
     "output_type": "execute_result"
    }
   ],
   "source": [
    "students['time'].quantile(0.7)/1000/60/60/8"
   ]
  },
  {
   "cell_type": "code",
   "execution_count": 556,
   "id": "d1d156b9",
   "metadata": {},
   "outputs": [
    {
     "data": {
      "text/plain": [
       "<AxesSubplot:xlabel='av_grade', ylabel='ques_quant'>"
      ]
     },
     "execution_count": 556,
     "metadata": {},
     "output_type": "execute_result"
    },
    {
     "data": {
      "image/png": "[encoded data removed]",
      "text/plain": [
       "<Figure size 432x288 with 1 Axes>"
      ]
     },
     "metadata": {
      "needs_background": "light"
     },
     "output_type": "display_data"
    }
   ],
   "source": [
    "\"\"\"\n",
    "Построим диаграмму рассеяния, показывающую зависимость правильных ответов от кол-ва сделанных заданий\n",
    "Ограничим выборку студентами, не бросившими обучение сразу.\n",
    "\"\"\"\n",
    "students[(students['ques_quant'] < 1000) & (students['time'] > 3000000)].plot.scatter(x='av_grade', y='ques_quant', c='red')\n",
    "\n",
    "# чтобы убрать выбросы, ограничим данные сверху 1000\n",
    "# На графике довольно очевидна связь успеваемости с кол-вом отвеченных вопросов\n",
    "# Стоит провести группировку вопросов по кол-ву для дальнейшего анализа"
   ]
  },
  {
   "cell_type": "code",
   "execution_count": 593,
   "id": "5454028e",
   "metadata": {},
   "outputs": [],
   "source": [
    "\"\"\"\n",
    "Построим новый столбец с группировкой по кол-ву отвеченных вопросов\n",
    "Далее строим диаграмму размаха\n",
    "\"\"\"\n",
    "def ques_convert(e):\n",
    "    if e < students['ques_quant'].quantile(0.1): return 0\n",
    "    elif e < students['ques_quant'].quantile(0.2): return 1\n",
    "    elif e < students['ques_quant'].quantile(0.3): return 2\n",
    "    elif e < students['ques_quant'].quantile(0.4): return 3\n",
    "    elif e < students['ques_quant'].quantile(0.5): return 4\n",
    "    elif e < students['ques_quant'].quantile(0.6): return 5\n",
    "    elif e < students['ques_quant'].quantile(0.7): return 6\n",
    "    elif e < students['ques_quant'].quantile(0.8): return 7\n",
    "    elif e < students['ques_quant'].quantile(0.9): return 8\n",
    "    else: return 9\n",
    "    \n",
    "students['q_group'] = students['ques_quant'].apply(ques_convert)"
   ]
  },
  {
   "cell_type": "code",
   "execution_count": 594,
   "id": "359ccb6d",
   "metadata": {},
   "outputs": [
    {
     "data": {
      "text/plain": [
       "<AxesSubplot:title={'center':'av_grade'}, xlabel='[q_group]'>"
      ]
     },
     "execution_count": 594,
     "metadata": {},
     "output_type": "execute_result"
    },
    {
     "data": {
      "image/png": "[encoded data removed]",
      "text/plain": [
       "<Figure size 432x288 with 1 Axes>"
      ]
     },
     "metadata": {
      "needs_background": "light"
     },
     "output_type": "display_data"
    }
   ],
   "source": [
    "students.boxplot(column=['av_grade'], by=['q_group'])\n",
    "\n",
    "# Мы видим странную просадку в 4м квартиле"
   ]
  },
  {
   "cell_type": "code",
   "execution_count": 600,
   "id": "9a7c8df2",
   "metadata": {},
   "outputs": [
    {
     "data": {
      "text/plain": [
       "31.600000000000023"
      ]
     },
     "execution_count": 600,
     "metadata": {},
     "output_type": "execute_result"
    }
   ],
   "source": [
    "students['ques_quant'].quantile(0.4)"
   ]
  },
  {
   "cell_type": "code",
   "execution_count": 601,
   "id": "1df3f17d",
   "metadata": {},
   "outputs": [
    {
     "data": {
      "text/plain": [
       "array([[<AxesSubplot:title={'center':'ques_quant'}>]], dtype=object)"
      ]
     },
     "execution_count": 601,
     "metadata": {},
     "output_type": "execute_result"
    },
    {
     "data": {
      "image/png": "[encoded data removed]",
      "text/plain": [
       "<Figure size 432x288 with 1 Axes>"
      ]
     },
     "metadata": {
      "needs_background": "light"
     },
     "output_type": "display_data"
    }
   ],
   "source": [
    "# Можем предположить, что первые вопросы являются сильным демотиватором для учащегося.\n",
    "# Но если студент отвечает больше, чем на 34 вопроса, он постепенно начинает улучшать свои показатели\n",
    "# И дальше результаты только улучшаются\n",
    "# На гистограме видно, что 32 вопроса - порог отсечения для многих студентов из нашей выборки\n",
    "\n",
    "students[(students['ques_quant'] < students['ques_quant'].quantile(0.5))].hist(column=['ques_quant'])"
   ]
  },
  {
   "cell_type": "code",
   "execution_count": 560,
   "id": "87553449",
   "metadata": {},
   "outputs": [
    {
     "data": {
      "text/plain": [
       "<AxesSubplot:xlabel='av_grade', ylabel='expl_watched'>"
      ]
     },
     "execution_count": 560,
     "metadata": {},
     "output_type": "execute_result"
    },
    {
     "data": {
      "image/png": "[encoded data removed]",
      "text/plain": [
       "<Figure size 432x288 with 1 Axes>"
      ]
     },
     "metadata": {
      "needs_background": "light"
     },
     "output_type": "display_data"
    }
   ],
   "source": [
    "\"\"\"\n",
    "Построим диаграмму рассеяния, показывающую зависимость правильных ответов от кол-ва виденных объяснений\n",
    "\"\"\"\n",
    "students[(students['expl_watched'] < 500)].plot.scatter(x='av_grade', y='expl_watched', c='yellow')"
   ]
  },
  {
   "cell_type": "code",
   "execution_count": 591,
   "id": "c5bce293",
   "metadata": {},
   "outputs": [],
   "source": [
    "\"\"\"\n",
    "Построим новый столбец с группировкой по кол-ву правильных ответов\n",
    "Далее строим диаграмму размаха\n",
    "\"\"\"\n",
    "def expl_convert(e):\n",
    "    if e < students['expl_watched'].quantile(0.1): return 0\n",
    "    elif e < students['expl_watched'].quantile(0.2): return 1\n",
    "    elif e < students['expl_watched'].quantile(0.3): return 2\n",
    "    elif e < students['expl_watched'].quantile(0.4): return 3\n",
    "    elif e < students['expl_watched'].quantile(0.5): return 4\n",
    "    elif e < students['expl_watched'].quantile(0.6): return 5\n",
    "    elif e < students['expl_watched'].quantile(0.7): return 6\n",
    "    elif e < students['expl_watched'].quantile(0.8): return 7\n",
    "    elif e < students['expl_watched'].quantile(0.9): return 8\n",
    "    else: return 9\n",
    "    \n",
    "students['e_group'] = students['expl_watched'].apply(expl_convert)"
   ]
  },
  {
   "cell_type": "code",
   "execution_count": 581,
   "id": "59ad2c28",
   "metadata": {},
   "outputs": [
    {
     "data": {
      "text/plain": [
       "22.5"
      ]
     },
     "execution_count": 581,
     "metadata": {},
     "output_type": "execute_result"
    }
   ],
   "source": [
    "students['expl_watched'].quantile(0.5)"
   ]
  },
  {
   "cell_type": "code",
   "execution_count": 587,
   "id": "ed71865d",
   "metadata": {},
   "outputs": [
    {
     "data": {
      "text/plain": [
       "array([[<AxesSubplot:title={'center':'expl_watched'}>]], dtype=object)"
      ]
     },
     "execution_count": 587,
     "metadata": {},
     "output_type": "execute_result"
    },
    {
     "data": {
      "image/png": "[encoded data removed]",
      "text/plain": [
       "<Figure size 432x288 with 1 Axes>"
      ]
     },
     "metadata": {
      "needs_background": "light"
     },
     "output_type": "display_data"
    }
   ],
   "source": [
    "# здесь мы видим, что 34 вопроса - порог отсечения для многих студентов\n",
    "students[(students['expl_watched'] < students['expl_watched'].quantile(0.8))].hist(column=['expl_watched'])"
   ]
  },
  {
   "cell_type": "code",
   "execution_count": 592,
   "id": "7523c809",
   "metadata": {},
   "outputs": [
    {
     "data": {
      "text/plain": [
       "<AxesSubplot:title={'center':'av_grade'}, xlabel='[e_group]'>"
      ]
     },
     "execution_count": 592,
     "metadata": {},
     "output_type": "execute_result"
    },
    {
     "data": {
      "image/png": "[encoded data removed]",
      "text/plain": [
       "<Figure size 432x288 with 1 Axes>"
      ]
     },
     "metadata": {
      "needs_background": "light"
     },
     "output_type": "display_data"
    }
   ],
   "source": [
    "students.boxplot(column=['av_grade'], by=['e_group'])\n",
    "\n",
    "# Видно четкий тренд на повышение оценки с ростом кол-ва просмотренных объяснений"
   ]
  },
  {
   "cell_type": "code",
   "execution_count": 297,
   "id": "1377bda0",
   "metadata": {},
   "outputs": [
    {
     "data": {
      "text/plain": [
       "<AxesSubplot:xlabel='av_grade', ylabel='lec_watched'>"
      ]
     },
     "execution_count": 297,
     "metadata": {},
     "output_type": "execute_result"
    },
    {
     "data": {
      "image/png": "[encoded data removed]",
      "text/plain": [
       "<Figure size 432x288 with 1 Axes>"
      ]
     },
     "metadata": {
      "needs_background": "light"
     },
     "output_type": "display_data"
    }
   ],
   "source": [
    "\"\"\"\n",
    "Построим диаграмму рассеяния, показывающую зависимость правильных ответов от кол-ва просмотренных лекций\n",
    "\"\"\"\n",
    "students[students['lec_watched'] < 21].plot.scatter(x='av_grade', y='lec_watched', c='green')\n",
    "\n",
    "# Мы видим, что экстремальные выбросы можно убрать, ограничив число 21 лекцией"
   ]
  },
  {
   "cell_type": "code",
   "execution_count": 360,
   "id": "3de97bd7",
   "metadata": {},
   "outputs": [
    {
     "data": {
      "text/plain": [
       "<AxesSubplot:title={'center':'av_grade'}, xlabel='[lec_watched]'>"
      ]
     },
     "execution_count": 360,
     "metadata": {},
     "output_type": "execute_result"
    },
    {
     "data": {
      "image/png": "[encoded data removed]",
      "text/plain": [
       "<Figure size 432x288 with 1 Axes>"
      ]
     },
     "metadata": {
      "needs_background": "light"
     },
     "output_type": "display_data"
    }
   ],
   "source": [
    "\"\"\"\n",
    "Построим диаграмму размаха, показывающую зависимость правильных ответов от кол-ва просмотренных лекций\n",
    "\"\"\"\n",
    "students[students['lec_watched'] < 21].boxplot(column=['av_grade'], by=['lec_watched'])\n",
    "\n",
    "# Мы видим, что даже просмотр 1 леции повышает средний балл и значительно повышает минимальную оценку студента.\n",
    "# Максимальный эффект достигается при просмотре 4-11 лекций, после чего эффективность просмотров снижается"
   ]
  },
  {
   "cell_type": "markdown",
   "id": "76754982",
   "metadata": {},
   "source": [
    "### Основные выводы по разделу 2\n",
    "\n",
    "Мы сделали выборку из общего объема данных по 500 студентам. \n",
    "С учетом проведенного анализа мы можем сделать следующие выводы:\n",
    "\n",
    "1. Треть студентов бросает учебу, проведя на платформе менее 42 минут. За это время, вероятно, они не успевают почувствовать эффект, либо им просто что-то не нравится (недостаточно мотивации / слишком сложные вопросы / неудобный интерфейс и т.д.).\n",
    "\n",
    "2. Если студент потратил на занятия не менее 55 часов, его оценка становится устойчиво выше средней и продолжает расти со временем. \n",
    "\n",
    "3. Если курс не пройден за ~ полгода, оценка становится нестабильной. Т.е. стоит не только стимулировать студентов не бросать занятия после первого подхода, но и закончить курс за первые полгода обучения.\n",
    "\n",
    "4. Анализ данных по кол-ву отвеченных вопросов подсказывает, что первые вопросы сильно демотивируют учащихся. Большая часть не преодолевает порог в 32 вопроса. Следует стимуляровать студентов к ответу хотя бы на первые 60 вопросов, чтобы добиться устойчивого улучшения результатов и мотивации к дальнейшему обучению.\n",
    "\n",
    "5. С ростом кол-ва просмотренных объяснений устойчиво растет успеваемость студентов.\n",
    "\n",
    "6. Если студент посмотрит более 4х лекций, его успеваемость значительно возрастет. При этом просмотр более 11 лекций по какой-то причине не улучшает ситуацию."
   ]
  },
  {
   "cell_type": "markdown",
   "id": "ef5c9eaf",
   "metadata": {},
   "source": [
    "---"
   ]
  },
  {
   "cell_type": "markdown",
   "id": "9c3d4889",
   "metadata": {},
   "source": [
    "## 3. Добавим к исследованию данные из дополнительных файлов\n",
    "\n",
    "### Исследуем данные \"Вопросы\"\n",
    "questions.csv\n",
    "- **question_id:** внешний ключ вопроса - соответствует content_id\n",
    "- **bundle_id:** код, по которому вопросы отдаются совместно\n",
    "- **correct_answer:** правильный ответ. Можно использовать для проверки правильности user_answer\n",
    "- **part:** номер раздела в тесте TOEIC\n",
    "- **tags:** кодировка типа вопроса, можно использовать для кластеризации вопросов"
   ]
  },
  {
   "cell_type": "code",
   "execution_count": 616,
   "id": "09898cdb",
   "metadata": {},
   "outputs": [
    {
     "name": "stdout",
     "output_type": "stream",
     "text": [
      "<class 'pandas.core.frame.DataFrame'>\n",
      "RangeIndex: 13523 entries, 0 to 13522\n",
      "Data columns (total 5 columns):\n",
      " #   Column          Non-Null Count  Dtype \n",
      "---  ------          --------------  ----- \n",
      " 0   question_id     13523 non-null  int16 \n",
      " 1   bundle_id       13523 non-null  int16 \n",
      " 2   correct_answer  13523 non-null  int8  \n",
      " 3   part            13523 non-null  int8  \n",
      " 4   tags            13522 non-null  object\n",
      "dtypes: int16(2), int8(2), object(1)\n",
      "memory usage: 185.0+ KB\n"
     ]
    }
   ],
   "source": [
    "questions = pd.read_csv('questions.csv', sep=',',\n",
    "                        dtype = {'question_id': 'int16', 'bundle_id': 'int16', 'correct_answer': 'int8',\n",
    "                                 'part': 'int8', 'tags': 'object'\n",
    "                               })\n",
    "questions.info()"
   ]
  },
  {
   "cell_type": "code",
   "execution_count": 617,
   "id": "d3e1f1d5",
   "metadata": {},
   "outputs": [
    {
     "data": {
      "text/html": [
       "<div>\n",
       "<style scoped>\n",
       "    .dataframe tbody tr th:only-of-type {\n",
       "        vertical-align: middle;\n",
       "    }\n",
       "\n",
       "    .dataframe tbody tr th {\n",
       "        vertical-align: top;\n",
       "    }\n",
       "\n",
       "    .dataframe thead th {\n",
       "        text-align: right;\n",
       "    }\n",
       "</style>\n",
       "<table border=\"1\" class=\"dataframe\">\n",
       "  <thead>\n",
       "    <tr style=\"text-align: right;\">\n",
       "      <th></th>\n",
       "      <th>Column_Name</th>\n",
       "      <th>Num_Unique</th>\n",
       "      <th>Type</th>\n",
       "    </tr>\n",
       "  </thead>\n",
       "  <tbody>\n",
       "    <tr>\n",
       "      <th>0</th>\n",
       "      <td>correct_answer</td>\n",
       "      <td>4</td>\n",
       "      <td>int8</td>\n",
       "    </tr>\n",
       "    <tr>\n",
       "      <th>1</th>\n",
       "      <td>part</td>\n",
       "      <td>7</td>\n",
       "      <td>int8</td>\n",
       "    </tr>\n",
       "    <tr>\n",
       "      <th>2</th>\n",
       "      <td>tags</td>\n",
       "      <td>1519</td>\n",
       "      <td>object</td>\n",
       "    </tr>\n",
       "    <tr>\n",
       "      <th>3</th>\n",
       "      <td>bundle_id</td>\n",
       "      <td>9765</td>\n",
       "      <td>int16</td>\n",
       "    </tr>\n",
       "    <tr>\n",
       "      <th>4</th>\n",
       "      <td>question_id</td>\n",
       "      <td>13523</td>\n",
       "      <td>int16</td>\n",
       "    </tr>\n",
       "  </tbody>\n",
       "</table>\n",
       "</div>"
      ],
      "text/plain": [
       "      Column_Name  Num_Unique    Type\n",
       "0  correct_answer           4    int8\n",
       "1            part           7    int8\n",
       "2            tags        1519  object\n",
       "3       bundle_id        9765   int16\n",
       "4     question_id       13523   int16"
      ]
     },
     "metadata": {},
     "output_type": "display_data"
    }
   ],
   "source": [
    "\"\"\"\n",
    "Исследуем кол-во уникальных значений для разных колонок\n",
    "\"\"\"\n",
    "unique_list_q = []\n",
    "for col in questions.columns:\n",
    "    item = (col, questions[col].nunique(), questions[col].dtype)\n",
    "    unique_list_q.append(item)\n",
    "unique_counts_q = pd.DataFrame(unique_list_q,\n",
    "                               columns=['Column_Name', 'Num_Unique', 'Type']\n",
    "                              ).sort_values(by='Num_Unique',  ignore_index=True)\n",
    "display(unique_counts_q)"
   ]
  },
  {
   "cell_type": "code",
   "execution_count": 618,
   "id": "72f4a8a7",
   "metadata": {},
   "outputs": [
    {
     "data": {
      "text/plain": [
       "count     13522\n",
       "unique     1519\n",
       "top           8\n",
       "freq        738\n",
       "Name: tags, dtype: object"
      ]
     },
     "execution_count": 618,
     "metadata": {},
     "output_type": "execute_result"
    }
   ],
   "source": [
    "questions['question_id'].groupby(questions['bundle_id']).count().max()\n",
    "questions['part'].value_counts(normalize=True)\n",
    "questions['tags'].describe()\n",
    "\n",
    "# Часть вопросов объединены по bundle_id в блоки до 5 вопросов, хотя большинство представлены по одиночке\n",
    "# Задачи разделены по темам на 7 разделов, больше всего посвящено 5му разделу, 2, 3 и 4"
   ]
  },
  {
   "cell_type": "code",
   "execution_count": 639,
   "id": "2f228362",
   "metadata": {},
   "outputs": [
    {
     "data": {
      "text/plain": [
       "188"
      ]
     },
     "execution_count": 639,
     "metadata": {},
     "output_type": "execute_result"
    }
   ],
   "source": [
    "q_tags = set()\n",
    "for tag in questions['tags']:\n",
    "    try:\n",
    "        for t in tag.split():\n",
    "                q_tags.add(int(t))\n",
    "    except:\n",
    "        q_tags.add(int(t))\n",
    "len(q_tags)\n",
    "\n",
    "# Можно провести доп исследование вопросов, используя кластеризацию по 188 доп.признакам 'tags'"
   ]
  },
  {
   "cell_type": "code",
   "execution_count": 145,
   "id": "70d616ca",
   "metadata": {},
   "outputs": [],
   "source": [
    "\"\"\"\n",
    "Для дальнейшего исследования вопросов создадим единую таблицу по их ID с данными Train\n",
    "\"\"\"\n",
    "tmp_df = train.loc[(train.content_type_id == 0), ['content_id', 'answered_correctly']]"
   ]
  },
  {
   "cell_type": "code",
   "execution_count": 619,
   "id": "baf72937",
   "metadata": {},
   "outputs": [
    {
     "data": {
      "text/plain": [
       "13523"
      ]
     },
     "execution_count": 619,
     "metadata": {},
     "output_type": "execute_result"
    }
   ],
   "source": [
    "\"\"\"\n",
    "Столбец question_id:\n",
    "\"\"\"\n",
    "q_list = list(tmp_df['content_id'].unique())\n",
    "len(q_list)\n",
    "\n",
    "# Всего 13523 уникальных вопросов. Мы берем этот список из файла Train, чтобы иметь правильный порядок данных"
   ]
  },
  {
   "cell_type": "code",
   "execution_count": 620,
   "id": "b4462314",
   "metadata": {
    "scrolled": true
   },
   "outputs": [],
   "source": [
    "\"\"\"\n",
    "Столбцы :\n",
    "q_quant - общее количество ответов для каждого id\n",
    "correct_quant - количество правильных ответов для каждого id\n",
    "\"\"\"\n",
    "q_quant = []\n",
    "correct_quant = []\n",
    "for q in q_list:\n",
    "    tmp = tmp_df[tmp_df['content_id'] == q]['answered_correctly'].count()\n",
    "    tmp1 = tmp_df[tmp_df['content_id'] == q]['answered_correctly'].sum()\n",
    "    q_quant.append(tmp)\n",
    "    correct_quant.append(tmp1)"
   ]
  },
  {
   "cell_type": "code",
   "execution_count": 627,
   "id": "a3d10d6b",
   "metadata": {},
   "outputs": [],
   "source": [
    "\"\"\"\n",
    "Запишем полученные данные в единую таблицу\n",
    "\"\"\"\n",
    "q_ex = pd.DataFrame({'question_id': q_list,\n",
    "                        'q_quant': q_quant,\n",
    "                        'correct_quant': correct_quant\n",
    "                       }\n",
    "                      )\n",
    "q_ex = q_ex.astype({'question_id': 'int16', 'q_quant': 'int32', 'correct_quant': 'int32'})"
   ]
  },
  {
   "cell_type": "code",
   "execution_count": null,
   "id": "2c2d0393",
   "metadata": {},
   "outputs": [],
   "source": [
    "\"\"\"\n",
    "Внесем полученные данные в таблицу questions (пересечением),\n",
    "вначале удалив ненужные столбцы\n",
    "\"\"\"\n",
    "questions = questions.drop('correct_answer', axis=1)\n",
    "questions = pd.merge(questions, q_ex, how='inner')"
   ]
  },
  {
   "cell_type": "code",
   "execution_count": 623,
   "id": "23d64f40",
   "metadata": {},
   "outputs": [
    {
     "data": {
      "text/html": [
       "<div>\n",
       "<style scoped>\n",
       "    .dataframe tbody tr th:only-of-type {\n",
       "        vertical-align: middle;\n",
       "    }\n",
       "\n",
       "    .dataframe tbody tr th {\n",
       "        vertical-align: top;\n",
       "    }\n",
       "\n",
       "    .dataframe thead th {\n",
       "        text-align: right;\n",
       "    }\n",
       "</style>\n",
       "<table border=\"1\" class=\"dataframe\">\n",
       "  <thead>\n",
       "    <tr style=\"text-align: right;\">\n",
       "      <th></th>\n",
       "      <th>question_id</th>\n",
       "      <th>bundle_id</th>\n",
       "      <th>part</th>\n",
       "      <th>q_quant</th>\n",
       "      <th>correct_quant</th>\n",
       "      <th>correct_percent</th>\n",
       "    </tr>\n",
       "  </thead>\n",
       "  <tbody>\n",
       "    <tr>\n",
       "      <th>count</th>\n",
       "      <td>13523.00000</td>\n",
       "      <td>13523.000000</td>\n",
       "      <td>13523.000000</td>\n",
       "      <td>13523.000000</td>\n",
       "      <td>13523.000000</td>\n",
       "      <td>13523.000000</td>\n",
       "    </tr>\n",
       "    <tr>\n",
       "      <th>mean</th>\n",
       "      <td>6761.00000</td>\n",
       "      <td>6760.510907</td>\n",
       "      <td>4.264956</td>\n",
       "      <td>7340.922872</td>\n",
       "      <td>4824.715448</td>\n",
       "      <td>0.709460</td>\n",
       "    </tr>\n",
       "    <tr>\n",
       "      <th>std</th>\n",
       "      <td>3903.89818</td>\n",
       "      <td>3903.857783</td>\n",
       "      <td>1.652553</td>\n",
       "      <td>11455.927774</td>\n",
       "      <td>6419.482619</td>\n",
       "      <td>0.164486</td>\n",
       "    </tr>\n",
       "    <tr>\n",
       "      <th>min</th>\n",
       "      <td>0.00000</td>\n",
       "      <td>0.000000</td>\n",
       "      <td>1.000000</td>\n",
       "      <td>1.000000</td>\n",
       "      <td>0.000000</td>\n",
       "      <td>0.000000</td>\n",
       "    </tr>\n",
       "    <tr>\n",
       "      <th>25%</th>\n",
       "      <td>3380.50000</td>\n",
       "      <td>3379.500000</td>\n",
       "      <td>3.000000</td>\n",
       "      <td>1765.500000</td>\n",
       "      <td>1274.000000</td>\n",
       "      <td>0.609345</td>\n",
       "    </tr>\n",
       "    <tr>\n",
       "      <th>50%</th>\n",
       "      <td>6761.00000</td>\n",
       "      <td>6761.000000</td>\n",
       "      <td>5.000000</td>\n",
       "      <td>4732.000000</td>\n",
       "      <td>3236.000000</td>\n",
       "      <td>0.734215</td>\n",
       "    </tr>\n",
       "    <tr>\n",
       "      <th>75%</th>\n",
       "      <td>10141.50000</td>\n",
       "      <td>10140.000000</td>\n",
       "      <td>5.000000</td>\n",
       "      <td>8556.000000</td>\n",
       "      <td>5877.500000</td>\n",
       "      <td>0.835116</td>\n",
       "    </tr>\n",
       "    <tr>\n",
       "      <th>max</th>\n",
       "      <td>13522.00000</td>\n",
       "      <td>13522.000000</td>\n",
       "      <td>7.000000</td>\n",
       "      <td>213605.000000</td>\n",
       "      <td>149422.000000</td>\n",
       "      <td>1.000000</td>\n",
       "    </tr>\n",
       "  </tbody>\n",
       "</table>\n",
       "</div>"
      ],
      "text/plain": [
       "       question_id     bundle_id          part        q_quant  correct_quant  \\\n",
       "count  13523.00000  13523.000000  13523.000000   13523.000000   13523.000000   \n",
       "mean    6761.00000   6760.510907      4.264956    7340.922872    4824.715448   \n",
       "std     3903.89818   3903.857783      1.652553   11455.927774    6419.482619   \n",
       "min        0.00000      0.000000      1.000000       1.000000       0.000000   \n",
       "25%     3380.50000   3379.500000      3.000000    1765.500000    1274.000000   \n",
       "50%     6761.00000   6761.000000      5.000000    4732.000000    3236.000000   \n",
       "75%    10141.50000  10140.000000      5.000000    8556.000000    5877.500000   \n",
       "max    13522.00000  13522.000000      7.000000  213605.000000  149422.000000   \n",
       "\n",
       "       correct_percent  \n",
       "count     13523.000000  \n",
       "mean          0.709460  \n",
       "std           0.164486  \n",
       "min           0.000000  \n",
       "25%           0.609345  \n",
       "50%           0.734215  \n",
       "75%           0.835116  \n",
       "max           1.000000  "
      ]
     },
     "execution_count": 623,
     "metadata": {},
     "output_type": "execute_result"
    }
   ],
   "source": [
    "\"\"\"\n",
    "Добавим дополнительный столбец:\n",
    "Процент правильных ответов\n",
    "\"\"\"\n",
    "questions['correct_percent'] = questions['correct_quant'] / questions['q_quant']\n",
    "questions.describe()"
   ]
  },
  {
   "cell_type": "code",
   "execution_count": 630,
   "id": "d30b9e30",
   "metadata": {},
   "outputs": [
    {
     "data": {
      "text/html": [
       "<div>\n",
       "<style scoped>\n",
       "    .dataframe tbody tr th:only-of-type {\n",
       "        vertical-align: middle;\n",
       "    }\n",
       "\n",
       "    .dataframe tbody tr th {\n",
       "        vertical-align: top;\n",
       "    }\n",
       "\n",
       "    .dataframe thead th {\n",
       "        text-align: right;\n",
       "    }\n",
       "</style>\n",
       "<table border=\"1\" class=\"dataframe\">\n",
       "  <thead>\n",
       "    <tr style=\"text-align: right;\">\n",
       "      <th></th>\n",
       "      <th>question_id</th>\n",
       "      <th>bundle_id</th>\n",
       "      <th>part</th>\n",
       "      <th>tags</th>\n",
       "      <th>q_quant</th>\n",
       "      <th>correct_quant</th>\n",
       "      <th>correct_percent</th>\n",
       "    </tr>\n",
       "  </thead>\n",
       "  <tbody>\n",
       "    <tr>\n",
       "      <th>0</th>\n",
       "      <td>0</td>\n",
       "      <td>0</td>\n",
       "      <td>1</td>\n",
       "      <td>51 131 162 38</td>\n",
       "      <td>6903</td>\n",
       "      <td>6266</td>\n",
       "      <td>0.907721</td>\n",
       "    </tr>\n",
       "    <tr>\n",
       "      <th>1</th>\n",
       "      <td>1</td>\n",
       "      <td>1</td>\n",
       "      <td>1</td>\n",
       "      <td>131 36 81</td>\n",
       "      <td>7398</td>\n",
       "      <td>6589</td>\n",
       "      <td>0.890646</td>\n",
       "    </tr>\n",
       "    <tr>\n",
       "      <th>2</th>\n",
       "      <td>2</td>\n",
       "      <td>2</td>\n",
       "      <td>1</td>\n",
       "      <td>131 101 162 92</td>\n",
       "      <td>44905</td>\n",
       "      <td>24890</td>\n",
       "      <td>0.554281</td>\n",
       "    </tr>\n",
       "    <tr>\n",
       "      <th>3</th>\n",
       "      <td>3</td>\n",
       "      <td>3</td>\n",
       "      <td>1</td>\n",
       "      <td>131 149 162 29</td>\n",
       "      <td>22973</td>\n",
       "      <td>17906</td>\n",
       "      <td>0.779437</td>\n",
       "    </tr>\n",
       "    <tr>\n",
       "      <th>4</th>\n",
       "      <td>4</td>\n",
       "      <td>4</td>\n",
       "      <td>1</td>\n",
       "      <td>131 5 162 38</td>\n",
       "      <td>31736</td>\n",
       "      <td>19461</td>\n",
       "      <td>0.613215</td>\n",
       "    </tr>\n",
       "    <tr>\n",
       "      <th>...</th>\n",
       "      <td>...</td>\n",
       "      <td>...</td>\n",
       "      <td>...</td>\n",
       "      <td>...</td>\n",
       "      <td>...</td>\n",
       "      <td>...</td>\n",
       "      <td>...</td>\n",
       "    </tr>\n",
       "    <tr>\n",
       "      <th>13518</th>\n",
       "      <td>13518</td>\n",
       "      <td>13518</td>\n",
       "      <td>5</td>\n",
       "      <td>14</td>\n",
       "      <td>868</td>\n",
       "      <td>683</td>\n",
       "      <td>0.786866</td>\n",
       "    </tr>\n",
       "    <tr>\n",
       "      <th>13519</th>\n",
       "      <td>13519</td>\n",
       "      <td>13519</td>\n",
       "      <td>5</td>\n",
       "      <td>8</td>\n",
       "      <td>924</td>\n",
       "      <td>528</td>\n",
       "      <td>0.571429</td>\n",
       "    </tr>\n",
       "    <tr>\n",
       "      <th>13520</th>\n",
       "      <td>13520</td>\n",
       "      <td>13520</td>\n",
       "      <td>5</td>\n",
       "      <td>73</td>\n",
       "      <td>861</td>\n",
       "      <td>579</td>\n",
       "      <td>0.672474</td>\n",
       "    </tr>\n",
       "    <tr>\n",
       "      <th>13521</th>\n",
       "      <td>13521</td>\n",
       "      <td>13521</td>\n",
       "      <td>5</td>\n",
       "      <td>125</td>\n",
       "      <td>870</td>\n",
       "      <td>703</td>\n",
       "      <td>0.808046</td>\n",
       "    </tr>\n",
       "    <tr>\n",
       "      <th>13522</th>\n",
       "      <td>13522</td>\n",
       "      <td>13522</td>\n",
       "      <td>5</td>\n",
       "      <td>55</td>\n",
       "      <td>860</td>\n",
       "      <td>786</td>\n",
       "      <td>0.913953</td>\n",
       "    </tr>\n",
       "  </tbody>\n",
       "</table>\n",
       "<p>13523 rows × 7 columns</p>\n",
       "</div>"
      ],
      "text/plain": [
       "       question_id  bundle_id  part            tags  q_quant  correct_quant  \\\n",
       "0                0          0     1   51 131 162 38     6903           6266   \n",
       "1                1          1     1       131 36 81     7398           6589   \n",
       "2                2          2     1  131 101 162 92    44905          24890   \n",
       "3                3          3     1  131 149 162 29    22973          17906   \n",
       "4                4          4     1    131 5 162 38    31736          19461   \n",
       "...            ...        ...   ...             ...      ...            ...   \n",
       "13518        13518      13518     5              14      868            683   \n",
       "13519        13519      13519     5               8      924            528   \n",
       "13520        13520      13520     5              73      861            579   \n",
       "13521        13521      13521     5             125      870            703   \n",
       "13522        13522      13522     5              55      860            786   \n",
       "\n",
       "       correct_percent  \n",
       "0             0.907721  \n",
       "1             0.890646  \n",
       "2             0.554281  \n",
       "3             0.779437  \n",
       "4             0.613215  \n",
       "...                ...  \n",
       "13518         0.786866  \n",
       "13519         0.571429  \n",
       "13520         0.672474  \n",
       "13521         0.808046  \n",
       "13522         0.913953  \n",
       "\n",
       "[13523 rows x 7 columns]"
      ]
     },
     "execution_count": 630,
     "metadata": {},
     "output_type": "execute_result"
    }
   ],
   "source": [
    "questions"
   ]
  },
  {
   "cell_type": "code",
   "execution_count": 156,
   "id": "5b10a2d0",
   "metadata": {},
   "outputs": [
    {
     "data": {
      "text/plain": [
       "part\n",
       "5    0.666119\n",
       "6    0.699596\n",
       "7    0.717958\n",
       "4    0.724918\n",
       "3    0.744598\n",
       "2    0.745296\n",
       "1    0.815104\n",
       "Name: correct_percent, dtype: float64"
      ]
     },
     "execution_count": 156,
     "metadata": {},
     "output_type": "execute_result"
    }
   ],
   "source": [
    "\"\"\"\n",
    "Посмотрим дополнительные условия, от которых может зависеть успешность ответа на вопрос:\n",
    "- от номера раздела в тесте TOEIC ('part')\n",
    "\"\"\"\n",
    "questions.groupby('part').mean()['correct_percent'].sort_values()\n",
    "\n",
    "# По мере продвижения по разделам, видимо, сложность курса возрастает. \n",
    "# 5й раздел содержит максимальное число леций и заданий, однако средняя успеваемость студентов\n",
    "# для него самая низкая."
   ]
  },
  {
   "cell_type": "markdown",
   "id": "2ebda8de",
   "metadata": {},
   "source": [
    "### Исследуем данные \"Лекции\"\n",
    "lectures.csv\n",
    "- **lecture_id** внешний ключ лекции - соответствует content_id\n",
    "- **part:** код темы/раздела *7 тем*\n",
    "- **tag:** кодировка типа лекции, можно использовать для кластеризации лекций *151 тип*\n",
    "- **type_of:** краткое описание цели леции: *'concept', 'solving question', 'intention', 'starter'*\n"
   ]
  },
  {
   "cell_type": "code",
   "execution_count": 113,
   "id": "b7321cdb",
   "metadata": {},
   "outputs": [
    {
     "name": "stdout",
     "output_type": "stream",
     "text": [
      "<class 'pandas.core.frame.DataFrame'>\n",
      "RangeIndex: 418 entries, 0 to 417\n",
      "Data columns (total 4 columns):\n",
      " #   Column      Non-Null Count  Dtype \n",
      "---  ------      --------------  ----- \n",
      " 0   lecture_id  418 non-null    int16 \n",
      " 1   tag         418 non-null    int16 \n",
      " 2   part        418 non-null    int8  \n",
      " 3   type_of     418 non-null    object\n",
      "dtypes: int16(2), int8(1), object(1)\n",
      "memory usage: 5.4+ KB\n"
     ]
    }
   ],
   "source": [
    "lectures = pd.read_csv('lectures.csv', sep=',',\n",
    "                      dtype = {'lecture_id': 'int16', 'tag': 'int16', \n",
    "                               'part': 'int8', 'type_of': 'object'})\n",
    "lectures.info()"
   ]
  },
  {
   "cell_type": "code",
   "execution_count": 115,
   "id": "f0396a69",
   "metadata": {},
   "outputs": [
    {
     "data": {
      "text/html": [
       "<div>\n",
       "<style scoped>\n",
       "    .dataframe tbody tr th:only-of-type {\n",
       "        vertical-align: middle;\n",
       "    }\n",
       "\n",
       "    .dataframe tbody tr th {\n",
       "        vertical-align: top;\n",
       "    }\n",
       "\n",
       "    .dataframe thead th {\n",
       "        text-align: right;\n",
       "    }\n",
       "</style>\n",
       "<table border=\"1\" class=\"dataframe\">\n",
       "  <thead>\n",
       "    <tr style=\"text-align: right;\">\n",
       "      <th></th>\n",
       "      <th>Column_Name</th>\n",
       "      <th>Num_Unique</th>\n",
       "      <th>Type</th>\n",
       "    </tr>\n",
       "  </thead>\n",
       "  <tbody>\n",
       "    <tr>\n",
       "      <th>0</th>\n",
       "      <td>type_of</td>\n",
       "      <td>4</td>\n",
       "      <td>object</td>\n",
       "    </tr>\n",
       "    <tr>\n",
       "      <th>1</th>\n",
       "      <td>part</td>\n",
       "      <td>7</td>\n",
       "      <td>int8</td>\n",
       "    </tr>\n",
       "    <tr>\n",
       "      <th>2</th>\n",
       "      <td>tag</td>\n",
       "      <td>151</td>\n",
       "      <td>int16</td>\n",
       "    </tr>\n",
       "    <tr>\n",
       "      <th>3</th>\n",
       "      <td>lecture_id</td>\n",
       "      <td>418</td>\n",
       "      <td>int16</td>\n",
       "    </tr>\n",
       "  </tbody>\n",
       "</table>\n",
       "</div>"
      ],
      "text/plain": [
       "  Column_Name  Num_Unique    Type\n",
       "0     type_of           4  object\n",
       "1        part           7    int8\n",
       "2         tag         151   int16\n",
       "3  lecture_id         418   int16"
      ]
     },
     "metadata": {},
     "output_type": "display_data"
    }
   ],
   "source": [
    "\"\"\"\n",
    "Исследуем кол-во уникальных значений для разных колонок\n",
    "\"\"\"\n",
    "unique_list_lec = []\n",
    "for col in lectures.columns:\n",
    "    item = (col, lectures[col].nunique(), lectures[col].dtype)\n",
    "    unique_list_lec.append(item)\n",
    "unique_counts_lec = pd.DataFrame(unique_list_lec,\n",
    "                                 columns=['Column_Name', 'Num_Unique', 'Type']\n",
    "                                ).sort_values(by='Num_Unique',  ignore_index=True)\n",
    "display(unique_counts_lec)\n",
    "\n",
    "# Лекции разделены по темам на 7 разделов, больше всего лекций посвящено 5му разделу, затем 6, 2 и 1\n",
    "# С учетом данных по вопросам, можно прийти к заключению, что 5 раздел - самый насыщенный по материалу,\n",
    "# 6 и 1 - более теоретические, а 3 и 4 - более прикладные.\n",
    "# Леции бывают 4 типов: вступление, целеполагание, концептуальное изложение материала и решение задач.\n",
    "# Большинство лекций посвящены теории, немного меньше - решению задач. Доля остальных несущественна.\n",
    "# Есть 151 доп.тип лекций, по которым можно провести кластеризацию"
   ]
  },
  {
   "cell_type": "code",
   "execution_count": 644,
   "id": "f1eef7c6",
   "metadata": {},
   "outputs": [
    {
     "data": {
      "text/plain": [
       "136    7\n",
       "161    6\n",
       "62     6\n",
       "113    6\n",
       "116    6\n",
       "Name: tag, dtype: int64"
      ]
     },
     "execution_count": 644,
     "metadata": {},
     "output_type": "execute_result"
    }
   ],
   "source": [
    "lectures['part'].value_counts(normalize=True)\n",
    "lectures['type_of'].value_counts(normalize=True)\n",
    "lectures['tag'].value_counts().head()"
   ]
  },
  {
   "cell_type": "code",
   "execution_count": 157,
   "id": "43de2f65",
   "metadata": {},
   "outputs": [
    {
     "data": {
      "text/plain": [
       "415"
      ]
     },
     "execution_count": 157,
     "metadata": {},
     "output_type": "execute_result"
    }
   ],
   "source": [
    "\"\"\"\n",
    "Для дальнейшего исследования лекций создадим единую таблицу по их ID с данными Train.\n",
    "\"\"\"\n",
    "l_list = list(train[train['content_type_id'] == 1]['content_id'].unique())\n",
    "len(l_list)\n",
    "\n",
    "# Всего 415 уникальных лекций. Мы берем этот список из файла Train, чтобы иметь правильный порядок данных"
   ]
  },
  {
   "cell_type": "code",
   "execution_count": 158,
   "id": "448e7d0a",
   "metadata": {},
   "outputs": [],
   "source": [
    "\"\"\"\n",
    "Посчитаем количество просмотров лекций для каждого id\n",
    "\"\"\"\n",
    "l_quant = []\n",
    "for l in l_list:\n",
    "    tmp_l = train[(train['content_id'] == l)]['content_id'].count()\n",
    "    l_quant.append(tmp_l)"
   ]
  },
  {
   "cell_type": "code",
   "execution_count": 160,
   "id": "c685e48d",
   "metadata": {},
   "outputs": [],
   "source": [
    "\"\"\"\n",
    "Запишем полученные данные в единую таблицу\n",
    "\"\"\"\n",
    "l_ex = pd.DataFrame({'lecture_id': l_list,\n",
    "                        'l_quant': l_quant\n",
    "                       }\n",
    "                      )\n",
    "l_ex = l_ex.astype({'lecture_id': 'int16', 'l_quant': 'int32'})"
   ]
  },
  {
   "cell_type": "code",
   "execution_count": 161,
   "id": "fedc2721",
   "metadata": {},
   "outputs": [
    {
     "data": {
      "text/html": [
       "<div>\n",
       "<style scoped>\n",
       "    .dataframe tbody tr th:only-of-type {\n",
       "        vertical-align: middle;\n",
       "    }\n",
       "\n",
       "    .dataframe tbody tr th {\n",
       "        vertical-align: top;\n",
       "    }\n",
       "\n",
       "    .dataframe thead th {\n",
       "        text-align: right;\n",
       "    }\n",
       "</style>\n",
       "<table border=\"1\" class=\"dataframe\">\n",
       "  <thead>\n",
       "    <tr style=\"text-align: right;\">\n",
       "      <th></th>\n",
       "      <th>lecture_id</th>\n",
       "      <th>tag</th>\n",
       "      <th>part</th>\n",
       "      <th>type_of</th>\n",
       "      <th>l_quant</th>\n",
       "    </tr>\n",
       "  </thead>\n",
       "  <tbody>\n",
       "    <tr>\n",
       "      <th>0</th>\n",
       "      <td>89</td>\n",
       "      <td>159</td>\n",
       "      <td>5</td>\n",
       "      <td>concept</td>\n",
       "      <td>24468</td>\n",
       "    </tr>\n",
       "    <tr>\n",
       "      <th>1</th>\n",
       "      <td>100</td>\n",
       "      <td>70</td>\n",
       "      <td>1</td>\n",
       "      <td>concept</td>\n",
       "      <td>18284</td>\n",
       "    </tr>\n",
       "    <tr>\n",
       "      <th>2</th>\n",
       "      <td>185</td>\n",
       "      <td>45</td>\n",
       "      <td>6</td>\n",
       "      <td>concept</td>\n",
       "      <td>47470</td>\n",
       "    </tr>\n",
       "    <tr>\n",
       "      <th>3</th>\n",
       "      <td>192</td>\n",
       "      <td>79</td>\n",
       "      <td>5</td>\n",
       "      <td>solving question</td>\n",
       "      <td>11073</td>\n",
       "    </tr>\n",
       "    <tr>\n",
       "      <th>4</th>\n",
       "      <td>317</td>\n",
       "      <td>156</td>\n",
       "      <td>5</td>\n",
       "      <td>solving question</td>\n",
       "      <td>11161</td>\n",
       "    </tr>\n",
       "    <tr>\n",
       "      <th>...</th>\n",
       "      <td>...</td>\n",
       "      <td>...</td>\n",
       "      <td>...</td>\n",
       "      <td>...</td>\n",
       "      <td>...</td>\n",
       "    </tr>\n",
       "    <tr>\n",
       "      <th>410</th>\n",
       "      <td>32535</td>\n",
       "      <td>8</td>\n",
       "      <td>5</td>\n",
       "      <td>solving question</td>\n",
       "      <td>3666</td>\n",
       "    </tr>\n",
       "    <tr>\n",
       "      <th>411</th>\n",
       "      <td>32570</td>\n",
       "      <td>113</td>\n",
       "      <td>3</td>\n",
       "      <td>solving question</td>\n",
       "      <td>2910</td>\n",
       "    </tr>\n",
       "    <tr>\n",
       "      <th>412</th>\n",
       "      <td>32604</td>\n",
       "      <td>24</td>\n",
       "      <td>6</td>\n",
       "      <td>concept</td>\n",
       "      <td>4</td>\n",
       "    </tr>\n",
       "    <tr>\n",
       "      <th>413</th>\n",
       "      <td>32625</td>\n",
       "      <td>142</td>\n",
       "      <td>2</td>\n",
       "      <td>concept</td>\n",
       "      <td>8031</td>\n",
       "    </tr>\n",
       "    <tr>\n",
       "      <th>414</th>\n",
       "      <td>32736</td>\n",
       "      <td>82</td>\n",
       "      <td>3</td>\n",
       "      <td>concept</td>\n",
       "      <td>8013</td>\n",
       "    </tr>\n",
       "  </tbody>\n",
       "</table>\n",
       "<p>415 rows × 5 columns</p>\n",
       "</div>"
      ],
      "text/plain": [
       "     lecture_id  tag  part           type_of  l_quant\n",
       "0            89  159     5           concept    24468\n",
       "1           100   70     1           concept    18284\n",
       "2           185   45     6           concept    47470\n",
       "3           192   79     5  solving question    11073\n",
       "4           317  156     5  solving question    11161\n",
       "..          ...  ...   ...               ...      ...\n",
       "410       32535    8     5  solving question     3666\n",
       "411       32570  113     3  solving question     2910\n",
       "412       32604   24     6           concept        4\n",
       "413       32625  142     2           concept     8031\n",
       "414       32736   82     3           concept     8013\n",
       "\n",
       "[415 rows x 5 columns]"
      ]
     },
     "metadata": {},
     "output_type": "display_data"
    }
   ],
   "source": [
    "\"\"\"\n",
    "Внесем полученные данные в таблицу lectures (пересечением)\n",
    "\"\"\"\n",
    "lectures = pd.merge(lectures, l_ex, how='inner')\n",
    "display(lectures)"
   ]
  },
  {
   "cell_type": "code",
   "execution_count": 660,
   "id": "a5bf2eca",
   "metadata": {
    "scrolled": true
   },
   "outputs": [
    {
     "data": {
      "text/html": [
       "<div>\n",
       "<style scoped>\n",
       "    .dataframe tbody tr th:only-of-type {\n",
       "        vertical-align: middle;\n",
       "    }\n",
       "\n",
       "    .dataframe tbody tr th {\n",
       "        vertical-align: top;\n",
       "    }\n",
       "\n",
       "    .dataframe thead th {\n",
       "        text-align: right;\n",
       "    }\n",
       "</style>\n",
       "<table border=\"1\" class=\"dataframe\">\n",
       "  <thead>\n",
       "    <tr style=\"text-align: right;\">\n",
       "      <th></th>\n",
       "      <th>lecture_id</th>\n",
       "      <th>tag</th>\n",
       "      <th>part</th>\n",
       "      <th>type_of</th>\n",
       "      <th>l_quant</th>\n",
       "      <th>l_quant_normal</th>\n",
       "    </tr>\n",
       "  </thead>\n",
       "  <tbody>\n",
       "    <tr>\n",
       "      <th>124</th>\n",
       "      <td>10688</td>\n",
       "      <td>39</td>\n",
       "      <td>7</td>\n",
       "      <td>concept</td>\n",
       "      <td>133046</td>\n",
       "      <td>1.000000</td>\n",
       "    </tr>\n",
       "    <tr>\n",
       "      <th>5</th>\n",
       "      <td>335</td>\n",
       "      <td>114</td>\n",
       "      <td>2</td>\n",
       "      <td>concept</td>\n",
       "      <td>60616</td>\n",
       "      <td>0.455602</td>\n",
       "    </tr>\n",
       "    <tr>\n",
       "      <th>44</th>\n",
       "      <td>3852</td>\n",
       "      <td>161</td>\n",
       "      <td>4</td>\n",
       "      <td>solving question</td>\n",
       "      <td>57766</td>\n",
       "      <td>0.434181</td>\n",
       "    </tr>\n",
       "    <tr>\n",
       "      <th>2</th>\n",
       "      <td>185</td>\n",
       "      <td>45</td>\n",
       "      <td>6</td>\n",
       "      <td>concept</td>\n",
       "      <td>47470</td>\n",
       "      <td>0.356794</td>\n",
       "    </tr>\n",
       "    <tr>\n",
       "      <th>62</th>\n",
       "      <td>5694</td>\n",
       "      <td>140</td>\n",
       "      <td>2</td>\n",
       "      <td>concept</td>\n",
       "      <td>46255</td>\n",
       "      <td>0.347662</td>\n",
       "    </tr>\n",
       "  </tbody>\n",
       "</table>\n",
       "</div>"
      ],
      "text/plain": [
       "     lecture_id  tag  part           type_of  l_quant  l_quant_normal\n",
       "124       10688   39     7           concept   133046        1.000000\n",
       "5           335  114     2           concept    60616        0.455602\n",
       "44         3852  161     4  solving question    57766        0.434181\n",
       "2           185   45     6           concept    47470        0.356794\n",
       "62         5694  140     2           concept    46255        0.347662"
      ]
     },
     "execution_count": 660,
     "metadata": {},
     "output_type": "execute_result"
    }
   ],
   "source": [
    "\"\"\"\n",
    "Общий рейтинг популярности для лекций\n",
    "\"\"\"\n",
    "lectures.sort_values(by=['l_quant'], ascending=False).head()"
   ]
  },
  {
   "cell_type": "code",
   "execution_count": 212,
   "id": "8a72cac0",
   "metadata": {},
   "outputs": [
    {
     "data": {
      "text/plain": [
       "part\n",
       "5    1231941\n",
       "2     565635\n",
       "6     493644\n",
       "1     354329\n",
       "7     256938\n",
       "4     191726\n",
       "3     153522\n",
       "Name: l_quant, dtype: int32"
      ]
     },
     "execution_count": 212,
     "metadata": {},
     "output_type": "execute_result"
    }
   ],
   "source": [
    "\"\"\"\n",
    "Рейтинг популярности для лекций, в зависимости от раздела\n",
    "\"\"\"\n",
    "lectures.groupby('part').sum()['l_quant'].sort_values(ascending=False)"
   ]
  },
  {
   "cell_type": "code",
   "execution_count": 218,
   "id": "70a3395e",
   "metadata": {},
   "outputs": [
    {
     "name": "stdout",
     "output_type": "stream",
     "text": [
      "1 6561.648148148148\n",
      "2 10100.625\n",
      "3 8080.105263157895\n",
      "4 6184.709677419355\n",
      "5 8675.640845070422\n",
      "6 6094.37037037037\n",
      "7 8029.3125\n"
     ]
    }
   ],
   "source": [
    "\"\"\"\n",
    "Рейтинг относительной популярности лекций по разделам\n",
    "\"\"\"\n",
    "for part in range(1, 8):\n",
    "    print(part, lectures.groupby('part').sum()['l_quant'].sort_values(ascending=False)[part]/lectures['part'].value_counts()[part])\n",
    "    \n",
    "# Наибольшее число просмотров имеет лекция из 7го раздела, \n",
    "# при этом самая высокая средневзвешенная популярность у лекций 2 раздела"
   ]
  },
  {
   "cell_type": "code",
   "execution_count": 661,
   "id": "80d5d564",
   "metadata": {},
   "outputs": [
    {
     "data": {
      "text/plain": [
       "tag\n",
       "39     133046\n",
       "161     91792\n",
       "62      80640\n",
       "27      79111\n",
       "114     69673\n",
       "Name: l_quant, dtype: int32"
      ]
     },
     "execution_count": 661,
     "metadata": {},
     "output_type": "execute_result"
    }
   ],
   "source": [
    "\"\"\"\n",
    "Рейтинг популярности для лекций, в зависимости от тега лекции\n",
    "\"\"\"\n",
    "lectures.groupby('tag').sum()['l_quant'].sort_values(ascending=False).head()"
   ]
  },
  {
   "cell_type": "markdown",
   "id": "a43ebb85",
   "metadata": {},
   "source": [
    "### Построим новую таблицу для доп анализа отдельных разделов"
   ]
  },
  {
   "cell_type": "code",
   "execution_count": 694,
   "id": "2a622ca1",
   "metadata": {},
   "outputs": [],
   "source": [
    "\"\"\"\n",
    "Столбец part\n",
    "\"\"\"\n",
    "part_list = list(range(1, 8))"
   ]
  },
  {
   "cell_type": "code",
   "execution_count": 695,
   "id": "16730217",
   "metadata": {},
   "outputs": [],
   "source": [
    "\"\"\"\n",
    "Столбец кол-во вопросов в каждом разделе\n",
    "\"\"\"\n",
    "ques_quant_p = [questions[questions.part == p]['question_id'].count() for p in range(1,8)]"
   ]
  },
  {
   "cell_type": "code",
   "execution_count": 696,
   "id": "fea05b99",
   "metadata": {},
   "outputs": [],
   "source": [
    "\"\"\"\n",
    "Столбец кол-во ответов в каждом разделе\n",
    "\"\"\"\n",
    "ans_quant_p = [questions[questions.part == p]['q_quant'].sum() for p in range(1,8)]"
   ]
  },
  {
   "cell_type": "code",
   "execution_count": 697,
   "id": "1f87f052",
   "metadata": {},
   "outputs": [],
   "source": [
    "\"\"\"\n",
    "Столбец кол-во правильных ответов в каждом разделе\n",
    "\"\"\"\n",
    "right_quant_p = [questions[questions.part == p]['correct_quant'].sum() for p in range(1,8)]"
   ]
  },
  {
   "cell_type": "code",
   "execution_count": 698,
   "id": "408e3a6f",
   "metadata": {},
   "outputs": [],
   "source": [
    "\"\"\"\n",
    "Столбец относительное кол-во правильных ответов в каждом разделе\n",
    "\"\"\"\n",
    "right_perc_p = [round(questions[questions.part == p]['correct_quant'].sum()/questions[questions.part == p]['q_quant'].sum(), 3) for p in range(1,8)]"
   ]
  },
  {
   "cell_type": "code",
   "execution_count": 699,
   "id": "2711561f",
   "metadata": {},
   "outputs": [],
   "source": [
    "\"\"\"\n",
    "Столбец кол-во лекций в каждом разделе\n",
    "\"\"\"\n",
    "lec_quant_p = [lectures[lectures.part == p]['lecture_id'].count() for p in range(1,8)]"
   ]
  },
  {
   "cell_type": "code",
   "execution_count": 700,
   "id": "bedf8e4c",
   "metadata": {},
   "outputs": [],
   "source": [
    "\"\"\"\n",
    "Столбец кол-во просмотров лекций в каждом разделе\n",
    "\"\"\"\n",
    "lec_view_p = [lectures[lectures.part == p]['l_quant'].sum() for p in range(1,8)]"
   ]
  },
  {
   "cell_type": "code",
   "execution_count": 701,
   "id": "6b7496c8",
   "metadata": {},
   "outputs": [],
   "source": [
    "\"\"\"\n",
    "Популярность лекций в каждом разделе\n",
    "\"\"\"\n",
    "lec_pop_p = [lectures[lectures.part == p]['l_quant'].sum()/lectures[lectures.part == p]['lecture_id'].count() for p in range(1,8)]"
   ]
  },
  {
   "cell_type": "code",
   "execution_count": 702,
   "id": "d63a1ac3",
   "metadata": {},
   "outputs": [],
   "source": [
    "\"\"\"\n",
    "Нормализованная популярность лекций в каждом разделе\n",
    "\"\"\"\n",
    "norm_lec_pop_p = [round(pop / max(lec_pop_p), 3) for pop in lec_pop_p]"
   ]
  },
  {
   "cell_type": "code",
   "execution_count": 705,
   "id": "d5bf42cf",
   "metadata": {},
   "outputs": [],
   "source": [
    "\"\"\"\n",
    "Запишем полученные данные в единую таблицу\n",
    "\"\"\"\n",
    "part_df = pd.DataFrame({'part': part_list,\n",
    "                        'ques_quant_p': ques_quant_p,\n",
    "                        'ans_quant_p': ans_quant_p,\n",
    "                        'right_quant_p': right_quant_p,\n",
    "                        'right_perc_p': right_perc_p,\n",
    "                        'lec_quant_p': lec_quant_p,\n",
    "                        'lec_view_p': lec_view_p,\n",
    "                        'norm_lec_pop_p': norm_lec_pop_p\n",
    "                       }\n",
    "                      )\n",
    "part_df = part_df.astype({'part': 'int8',\n",
    "                        'ques_quant_p': 'int16',\n",
    "                        'ans_quant_p': 'int64',\n",
    "                        'right_quant_p': 'int64',\n",
    "                        'right_perc_p': 'float32',\n",
    "                        'lec_quant_p': 'int16',\n",
    "                        'lec_view_p': 'int32',\n",
    "                        'norm_lec_pop_p': 'float32'\n",
    "                       })"
   ]
  },
  {
   "cell_type": "code",
   "execution_count": 708,
   "id": "d1ba4f80",
   "metadata": {},
   "outputs": [
    {
     "data": {
      "text/html": [
       "<div>\n",
       "<style scoped>\n",
       "    .dataframe tbody tr th:only-of-type {\n",
       "        vertical-align: middle;\n",
       "    }\n",
       "\n",
       "    .dataframe tbody tr th {\n",
       "        vertical-align: top;\n",
       "    }\n",
       "\n",
       "    .dataframe thead th {\n",
       "        text-align: right;\n",
       "    }\n",
       "</style>\n",
       "<table border=\"1\" class=\"dataframe\">\n",
       "  <thead>\n",
       "    <tr style=\"text-align: right;\">\n",
       "      <th></th>\n",
       "      <th>part</th>\n",
       "      <th>ques_quant_p</th>\n",
       "      <th>ans_quant_p</th>\n",
       "      <th>right_quant_p</th>\n",
       "      <th>right_perc_p</th>\n",
       "      <th>lec_quant_p</th>\n",
       "      <th>lec_view_p</th>\n",
       "      <th>norm_lec_pop_p</th>\n",
       "    </tr>\n",
       "  </thead>\n",
       "  <tbody>\n",
       "    <tr>\n",
       "      <th>0</th>\n",
       "      <td>1</td>\n",
       "      <td>992</td>\n",
       "      <td>7454570</td>\n",
       "      <td>5553896</td>\n",
       "      <td>0.745</td>\n",
       "      <td>54</td>\n",
       "      <td>354329</td>\n",
       "      <td>0.650</td>\n",
       "    </tr>\n",
       "    <tr>\n",
       "      <th>1</th>\n",
       "      <td>2</td>\n",
       "      <td>1647</td>\n",
       "      <td>18743404</td>\n",
       "      <td>13283339</td>\n",
       "      <td>0.709</td>\n",
       "      <td>56</td>\n",
       "      <td>565635</td>\n",
       "      <td>1.000</td>\n",
       "    </tr>\n",
       "    <tr>\n",
       "      <th>2</th>\n",
       "      <td>3</td>\n",
       "      <td>1562</td>\n",
       "      <td>8639907</td>\n",
       "      <td>6060514</td>\n",
       "      <td>0.701</td>\n",
       "      <td>19</td>\n",
       "      <td>153522</td>\n",
       "      <td>0.800</td>\n",
       "    </tr>\n",
       "    <tr>\n",
       "      <th>5</th>\n",
       "      <td>6</td>\n",
       "      <td>1212</td>\n",
       "      <td>10501472</td>\n",
       "      <td>7029563</td>\n",
       "      <td>0.669</td>\n",
       "      <td>81</td>\n",
       "      <td>493644</td>\n",
       "      <td>0.603</td>\n",
       "    </tr>\n",
       "    <tr>\n",
       "      <th>6</th>\n",
       "      <td>7</td>\n",
       "      <td>1160</td>\n",
       "      <td>4956118</td>\n",
       "      <td>3269061</td>\n",
       "      <td>0.660</td>\n",
       "      <td>32</td>\n",
       "      <td>256938</td>\n",
       "      <td>0.795</td>\n",
       "    </tr>\n",
       "    <tr>\n",
       "      <th>3</th>\n",
       "      <td>4</td>\n",
       "      <td>1439</td>\n",
       "      <td>8067676</td>\n",
       "      <td>5090684</td>\n",
       "      <td>0.631</td>\n",
       "      <td>31</td>\n",
       "      <td>191726</td>\n",
       "      <td>0.612</td>\n",
       "    </tr>\n",
       "    <tr>\n",
       "      <th>4</th>\n",
       "      <td>5</td>\n",
       "      <td>5511</td>\n",
       "      <td>40908153</td>\n",
       "      <td>24957570</td>\n",
       "      <td>0.610</td>\n",
       "      <td>142</td>\n",
       "      <td>1231941</td>\n",
       "      <td>0.859</td>\n",
       "    </tr>\n",
       "  </tbody>\n",
       "</table>\n",
       "</div>"
      ],
      "text/plain": [
       "   part  ques_quant_p  ans_quant_p  right_quant_p  right_perc_p  lec_quant_p  \\\n",
       "0     1           992      7454570        5553896         0.745           54   \n",
       "1     2          1647     18743404       13283339         0.709           56   \n",
       "2     3          1562      8639907        6060514         0.701           19   \n",
       "5     6          1212     10501472        7029563         0.669           81   \n",
       "6     7          1160      4956118        3269061         0.660           32   \n",
       "3     4          1439      8067676        5090684         0.631           31   \n",
       "4     5          5511     40908153       24957570         0.610          142   \n",
       "\n",
       "   lec_view_p  norm_lec_pop_p  \n",
       "0      354329           0.650  \n",
       "1      565635           1.000  \n",
       "2      153522           0.800  \n",
       "5      493644           0.603  \n",
       "6      256938           0.795  \n",
       "3      191726           0.612  \n",
       "4     1231941           0.859  "
      ]
     },
     "execution_count": 708,
     "metadata": {},
     "output_type": "execute_result"
    }
   ],
   "source": [
    "part_df.sort_values(by='right_perc_p', ascending=False)"
   ]
  },
  {
   "cell_type": "markdown",
   "id": "33046965",
   "metadata": {},
   "source": [
    "### Основные выводы по разделу 3:\n",
    " - Часть вопросов объединены по bundle_id в блоки до 5 вопросов, хотя большинство представлены по одиночке\n",
    " - Лекции бывают 4 типов: вступление, целеполагание, концептуальное изложение материала и решение задач.\n",
    " - Задачи и лекции разделены по темам на 7 разделов\n",
    " - Большинство лекций посвящены теории, немного меньше - решению задач. Доля остальных несущественна.\n",
    " - Наибольшее число просмотров имеет лекция из 7го раздела.\n",
    " - Самая высокая средневзвешенная популярность у лекций 2 раздела.\n",
    " - 5 раздел - самый насыщенный по материалу, 6 и 1 - более теоретические, а 3 и 4 - более прикладные.\n",
    " - По мере продвижения по разделам, видимо, сложность курса возрастает. \n",
    " - 5й раздел содержит максимальное число лекций и заданий, однако средняя успеваемость студентов для него самая низкая.\n",
    " - Успеваемость по 4му и 6му разделу, вероятно, можно улучшить, добавив в них качественные лекции, а по 7му разделу - добавив практические задания."
   ]
  }
 ],
 "metadata": {
  "kernelspec": {
   "display_name": "Python 3 (ipykernel)",
   "language": "python",
   "name": "python3"
  },
  "language_info": {
   "codemirror_mode": {
    "name": "ipython",
    "version": 3
   },
   "file_extension": ".py",
   "mimetype": "text/x-python",
   "name": "python",
   "nbconvert_exporter": "python",
   "pygments_lexer": "ipython3",
   "version": "3.9.12"
  }
 },
 "nbformat": 4,
 "nbformat_minor": 5
}
